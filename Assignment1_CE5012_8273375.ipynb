{
 "cells": [
  {
   "cell_type": "markdown",
   "metadata": {
    "id": "D0od727REF6w"
   },
   "source": [
    "#Assignment 1: Vision Transformer\n",
    "In this lab you will build a vision transformer and train it on the CIFAR-10 dataset.\n",
    "![](https://github.com/tonyscan6003/etivities/blob/main/vit.JPG?raw=true)\n",
    "\n",
    "A key problem with using transformers with images is long sequence lengths when each pixel is used as an individual token. As the computational complexity of transformers scales quadratically with sequence length, approaches to reduce the computation are required. The vision transformer solves this problem by dividing the image into a shorter sequence of patches that are converted to tokens with a dimension D.\n",
    "\n",
    "Unlike convolution which inherently retains spatial information, the transformer self attention mechanism will compute the same result regardless of the order of the tokens. For this reason a sinusoidal positional encoding is included to retain positional information.  \n",
    "\n",
    "The vision transformer can be trained on CIFAR-10 using supervised learning. A final classification layer is applied to the learned classification token. (We note that due to self attention, this token obtains information from the input patches and can therefore determine the class)\n",
    "\n",
    "Note on this assignment:\n",
    "* The goal of the assignment is to successfully code the transformer (not to achieve high the highest possible performance or optimise the training).  \n",
    "* The Projection of the patches and positional encoding blocks is given in the notebook.\n",
    "* It is recommended to take a hierachical approach to building the vision transformer.\n",
    " * Start with the lowest level self-attention block, then add multi-head attention, the transformer encoder and finally a toplevel vision transformer block.\n",
    " * Each block can be structured as a sub-class of nn.module. Instances of these classes can then be called into classes for higher level blocks (e.g. multi-head attention will create instances of the attention block)  \n",
    " * Take particular care with the dimensions of the token tensors. The pytorch layers such as nn.linear operate on the last dimension of the tensor. Therefore we want the features of the token (\"D\" dimension) to the be the last dimension.\n",
    " * You may want to initally use a small dimensionality D in your model when de-bugging as it will run more quickly.\n"
   ]
  },
  {
   "cell_type": "code",
   "execution_count": 1,
   "metadata": {
    "id": "DEt0NrOfEBpA"
   },
   "outputs": [],
   "source": [
    "import torch\n",
    "from torch import nn\n",
    "from torch.utils.data import DataLoader\n",
    "from torchvision import datasets, models\n",
    "from torchvision.transforms import ToTensor, v2, Pad\n",
    "from torchvision.transforms import ToTensor\n",
    "import matplotlib.pyplot as plt\n",
    "from torch.utils.tensorboard import SummaryWriter\n",
    "import datetime\n",
    "import numpy as np"
   ]
  },
  {
   "cell_type": "code",
   "execution_count": 2,
   "metadata": {
    "colab": {
     "base_uri": "https://localhost:8080/"
    },
    "executionInfo": {
     "elapsed": 1677,
     "status": "ok",
     "timestamp": 1739982514325,
     "user": {
      "displayName": "Tony Scanlan",
      "userId": "11380187689366571663"
     },
     "user_tz": 0
    },
    "id": "9Dx_DK31F4gR",
    "outputId": "d976aecf-fbd2-4279-a055-e11039cefb41"
   },
   "outputs": [
    {
     "name": "stdout",
     "output_type": "stream",
     "text": [
      "Looking in indexes: https://pypi.org/simple, https://pypi.ngc.nvidia.com\n",
      "Requirement already satisfied: torchinfo in /usr/local/lib/python3.10/dist-packages (1.8.0)\n",
      "\u001b[33mWARNING: Running pip as the 'root' user can result in broken permissions and conflicting behaviour with the system package manager, possibly rendering your system unusable.It is recommended to use a virtual environment instead: https://pip.pypa.io/warnings/venv. Use the --root-user-action option if you know what you are doing and want to suppress this warning.\u001b[0m\u001b[33m\n",
      "\u001b[0m\n",
      "\u001b[1m[\u001b[0m\u001b[34;49mnotice\u001b[0m\u001b[1;39;49m]\u001b[0m\u001b[39;49m A new release of pip is available: \u001b[0m\u001b[31;49m24.2\u001b[0m\u001b[39;49m -> \u001b[0m\u001b[32;49m25.0.1\u001b[0m\n",
      "\u001b[1m[\u001b[0m\u001b[34;49mnotice\u001b[0m\u001b[1;39;49m]\u001b[0m\u001b[39;49m To update, run: \u001b[0m\u001b[32;49mpython -m pip install --upgrade pip\u001b[0m\n"
     ]
    }
   ],
   "source": [
    "!pip install torchinfo"
   ]
  },
  {
   "cell_type": "code",
   "execution_count": 3,
   "metadata": {
    "id": "j8BOvrQ5_dE2"
   },
   "outputs": [
    {
     "name": "stdout",
     "output_type": "stream",
     "text": [
      "NVIDIA RTX 4000 Ada Generation\n",
      "__CUDNN VERSION: 90400\n",
      "__Number CUDA Devices: 1\n",
      "__CUDA Device Name: NVIDIA RTX 4000 Ada Generation\n",
      "__CUDA Device Total Memory [GB]: 21.469069312\n",
      "Memory Usage:\n",
      "Allocated: 0.0 GB\n",
      "Cached:    0.0 GB\n"
     ]
    }
   ],
   "source": [
    "import torch\n",
    "use_cuda = torch.cuda.is_available()\n",
    "\n",
    "if not use_cuda:\n",
    "\texit()\n",
    "\n",
    "print(torch.cuda.get_device_name(0))\n",
    "print('__CUDNN VERSION:', torch.backends.cudnn.version())\n",
    "print('__Number CUDA Devices:', torch.cuda.device_count())\n",
    "print('__CUDA Device Name:',torch.cuda.get_device_name(0))\n",
    "print('__CUDA Device Total Memory [GB]:',torch.cuda.get_device_properties(0).total_memory/1e9)\n",
    "print('Memory Usage:')\n",
    "print('Allocated:', round(torch.cuda.memory_allocated(0)/1024**3,1), 'GB')\n",
    "print('Cached:   ', round(torch.cuda.memory_reserved(0)/1024**3,1), 'GB')"
   ]
  },
  {
   "cell_type": "markdown",
   "metadata": {
    "id": "S65n7FefE5T7"
   },
   "source": [
    "## Import Dataset\n",
    "The [torchvision](https://pytorch.org/vision/stable/index.html) package (imported above) makes available several common image classification, object detection, semantic segmentation datasets, aswell as other [datasets](https://pytorch.org/vision/stable/datasets.html) for common computer vision applications.  \n",
    "\n",
    "You can adjust these transforms as part of your regularisation strategy for the network. (Note that only the train_transform should be modified, we don't want to apply augmentation to the test set)"
   ]
  },
  {
   "cell_type": "code",
   "execution_count": 4,
   "metadata": {
    "id": "kj3lHLmyl-AR"
   },
   "outputs": [],
   "source": [
    "'''\n",
    "train_transforms = v2.Compose([\n",
    "    v2.ToDtype(torch.float32, scale=True),\n",
    "    ToTensor(),\n",
    "    v2.Normalize([0.485, 0.456, 0.406], [0.229, 0.224, 0.225]),\n",
    "])\n",
    "\n",
    "\n",
    "test_transforms = v2.Compose([\n",
    "    v2.ToDtype(torch.float32, scale=True),\n",
    "    ToTensor(),\n",
    "    v2.Normalize([0.485, 0.456, 0.406], [0.229, 0.224, 0.225]),\n",
    "])\n",
    "'''\n",
    "\n",
    "train_transforms = v2.Compose([\n",
    "    v2.RandomResizedCrop(size=32,scale=(0.8,1.0)),\n",
    "    v2.RandomHorizontalFlip(p=0.5),\n",
    "    v2.ToDtype(torch.float32, scale=True),\n",
    "    ToTensor(),\n",
    "    v2.Normalize([0.485, 0.456, 0.406], [0.229, 0.224, 0.225]),\n",
    "])\n",
    "\n",
    "\n",
    "test_transforms = v2.Compose([\n",
    "    v2.ToDtype(torch.float32, scale=True),\n",
    "    ToTensor(),\n",
    "    v2.Normalize([0.485, 0.456, 0.406], [0.229, 0.224, 0.225]),\n",
    "])\n",
    "\n",
    "#v2.RandomRotation(degrees=(-45, 45)),"
   ]
  },
  {
   "cell_type": "code",
   "execution_count": 5,
   "metadata": {
    "id": "CGcCuvXjE7TI"
   },
   "outputs": [
    {
     "name": "stdout",
     "output_type": "stream",
     "text": [
      "Files already downloaded and verified\n",
      "Files already downloaded and verified\n"
     ]
    }
   ],
   "source": [
    "# Download training data from open datasets.\n",
    "training_data = datasets.CIFAR10(\n",
    "    root=\"data\",\n",
    "    train=True,\n",
    "    download=True,\n",
    "    transform=train_transforms,\n",
    ")\n",
    "\n",
    "# Download test data from open datasets.\n",
    "test_data = datasets.CIFAR10(\n",
    "    root=\"data\",\n",
    "    train=False,\n",
    "    download=True,\n",
    "    transform=test_transforms,\n",
    ")"
   ]
  },
  {
   "cell_type": "markdown",
   "metadata": {
    "id": "LH_kTIFYIoTA"
   },
   "source": [
    "The `Dataset` is passed as an argument to `DataLoader`. This wraps an\n",
    "iterable over the dataset, and supports automatic batching, sampling,\n",
    "shuffling and multiprocess data loading."
   ]
  },
  {
   "cell_type": "code",
   "execution_count": 6,
   "metadata": {
    "colab": {
     "base_uri": "https://localhost:8080/"
    },
    "executionInfo": {
     "elapsed": 77,
     "status": "ok",
     "timestamp": 1739982515489,
     "user": {
      "displayName": "Tony Scanlan",
      "userId": "11380187689366571663"
     },
     "user_tz": 0
    },
    "id": "bX-snmo0Iv3v",
    "outputId": "4b4fecab-8555-4178-8287-742c7c9d48fa"
   },
   "outputs": [
    {
     "name": "stdout",
     "output_type": "stream",
     "text": [
      "Shape of X [N, C, H, W]: torch.Size([256, 3, 32, 32])\n",
      "Shape of y: torch.Size([256]) torch.int64\n"
     ]
    }
   ],
   "source": [
    "batch_size = 128\n",
    "batch_size = 256\n",
    "\n",
    "# Create data loaders.\n",
    "train_dataloader = DataLoader(training_data, batch_size=batch_size, shuffle=True)\n",
    "test_dataloader = DataLoader(test_data, batch_size=batch_size)\n",
    "\n",
    "for X, y in test_dataloader:\n",
    "    print(f\"Shape of X [N, C, H, W]: {X.shape}\")\n",
    "    print(f\"Shape of y: {y.shape} {y.dtype}\")\n",
    "    break"
   ]
  },
  {
   "cell_type": "code",
   "execution_count": 7,
   "metadata": {
    "id": "K5iqVbNpQAOH"
   },
   "outputs": [
    {
     "name": "stdout",
     "output_type": "stream",
     "text": [
      "Test Samples  10000\n",
      "Train Samples  50000\n",
      "Test Batches  40\n",
      "Train Batches  196\n"
     ]
    }
   ],
   "source": [
    "print('Test Samples ',len(test_dataloader.dataset))\n",
    "print('Train Samples ',len(train_dataloader.dataset))\n",
    "print('Test Batches ',len(test_dataloader))\n",
    "print('Train Batches ',len(train_dataloader))"
   ]
  },
  {
   "cell_type": "code",
   "execution_count": 8,
   "metadata": {
    "id": "L8VjVE0CmZYw"
   },
   "outputs": [],
   "source": [
    "classes = [\n",
    "    \"airplane\",\n",
    "    \"automobile\",\n",
    "    \"bird\",\n",
    "    \"cat\",\n",
    "    \"deer\",\n",
    "    \"dog\",\n",
    "    \"frog\",\n",
    "    \"horse\",\n",
    "    \"ship\",\n",
    "    \"truck\",\n",
    "]\n",
    "\n",
    "def plot_examples(image_batch,labels_batch,pred_labels_batch):\n",
    "  n_plots = 12 # number of plots\n",
    "  f, axarr = plt.subplots(1,n_plots,figsize=(20,10))\n",
    "\n",
    "  for i, image in enumerate(image_batch[0:n_plots,:,:,:]):\n",
    "    # return image to cpu for display and permute to channels last\n",
    "    disp_image =  torch.permute(image.to('cpu'),(2,1,0)).numpy()\n",
    "\n",
    "    # Correct mean/std for display\n",
    "    mean = np.array([0.485, 0.456, 0.406])\n",
    "    std = np.array([0.229, 0.224, 0.225])\n",
    "    disp_image = std * disp_image + mean\n",
    "    disp_image = np.clip(disp_image, 0, 1)\n",
    "\n",
    "    #\n",
    "    axarr[i].imshow(disp_image[:,:,:])\n",
    "    axarr[i].axis(\"off\")\n",
    "    #predicted, actual = classes[pred_labels_batch[0,i]], classes[labels_batch[i]]\n",
    "    predicted, actual = classes[pred_labels_batch.to('cpu')[i]], classes[labels_batch.to('cpu')[i]]\n",
    "    color = 'black' if predicted == actual else 'red'\n",
    "    axarr[i].set_title(predicted,fontsize='small', color=color)\n",
    "\n",
    "\n"
   ]
  },
  {
   "cell_type": "code",
   "execution_count": 9,
   "metadata": {
    "colab": {
     "base_uri": "https://localhost:8080/",
     "height": 104
    },
    "executionInfo": {
     "elapsed": 577,
     "status": "ok",
     "timestamp": 1739982516094,
     "user": {
      "displayName": "Tony Scanlan",
      "userId": "11380187689366571663"
     },
     "user_tz": 0
    },
    "id": "C558MSNYQxd8",
    "outputId": "f1e323af-2b5e-4fb0-bbd3-9f072702a6d3"
   },
   "outputs": [
    {
     "data": {
      "image/png": "[encoded data removed]",
      "text/plain": [
       "<Figure size 2000x1000 with 12 Axes>"
      ]
     },
     "metadata": {},
     "output_type": "display_data"
    }
   ],
   "source": [
    "# Output next batch from dataloader\n",
    "dataiter = iter(train_dataloader)\n",
    "image_batch, labels_batch = next(dataiter)\n",
    "\n",
    "# Call plot with pred_label_batch = labels_batch before training\n",
    "plot_examples(image_batch,labels_batch,labels_batch)"
   ]
  },
  {
   "cell_type": "markdown",
   "metadata": {
    "id": "TIIjqCm9IbxS"
   },
   "source": [
    "# Define Transformer Model\n",
    "\n",
    "It is necssary to define a series of blocks to train the transformer model\n",
    "\n",
    "\n",
    "*   1. Patch Embedding (included)\n",
    "*   2. Positional Encoding (included)\n",
    "*   3. Attention block\n",
    "*   4. Multi head attention\n",
    "*   5. Transformer Encoder\n",
    "*   6. Vision Transformer (top level)\n",
    "\n"
   ]
  },
  {
   "cell_type": "markdown",
   "metadata": {
    "id": "R5Xlh_-xf9QJ"
   },
   "source": [
    "1. Patch Embedding:\n",
    "\n",
    "This block could be implemented by first dividing the the image into patches (with an image processing function) and then applying the same linear layer to each patch. However this block is most efficiently implemented as a convolution followed by permute and flatten operations which achieves the same result.\n",
    "* The convolution applies the same set of weights to a patch of the image. converting the patch to an embedding or token (after permute and flatten operations) . The number of kernels used in the convolution sets the dimensionality of the token.\n",
    "* The convolution uses a large patch size and a stride equal to the patch size. The number of patches sets the number of tokens at the input to the vision transformer.\n",
    "* The number of patches to be used can be determined from the guide to convolutional arithmetic (relationship no 5. No zero padding,non-unit strides) o = (i-k)/s +1 the ouptut size (for one dimension). We typically try to choose the patch size so that an integer number of patches are obtained. For example if i=32, and if we choose a patch size of k=8, and using the same stride as the patch size s=8 (no overlapping) then o=(32-8)/8+1=24/8+1=3+1=4 so there will be 4 patches along each dimension of the input image (so 16 patches in total)."
   ]
  },
  {
   "cell_type": "code",
   "execution_count": 10,
   "metadata": {
    "id": "Ueg_O_k1_DcF"
   },
   "outputs": [],
   "source": [
    "\n",
    "class Patch_embedding(nn.Module):\n",
    "    def __init__(self,in_channels,d_transformer,patch_size):\n",
    "        super().__init__()\n",
    "        self.in_channels = in_channels       # number of channels (C) in input\n",
    "        self.d_transformer = d_transformer   # number of dimensions (D) in token (same as number of kernels in convolution)\n",
    "        self.patch_size = patch_size         # Size of patch in pixels\n",
    "\n",
    "        self.conv = nn.Conv2d(self.in_channels,self.d_transformer,self.patch_size,stride=self.patch_size,padding='valid')\n",
    "\n",
    "    def forward(self, x):\n",
    "\n",
    "        int_1 = self.conv(x)  # Input B x C x n x m converted to B x D x m'x n'\n",
    "                              # where m' and n' is spatial size after convolution\n",
    "\n",
    "        int_2 = torch.permute(int_1,(0,2,3,1))  # Use permute to make channels last B x m'x n' x D\n",
    "        emb = torch.flatten(int_2,start_dim=1,end_dim=2)  # Flattent to B x N x D where N is sequence length (equal to no patches)\n",
    "        return emb\n",
    "\n",
    "\n",
    "\n"
   ]
  },
  {
   "cell_type": "markdown",
   "metadata": {
    "id": "Baqq9ERdrMmh"
   },
   "source": [
    "2. Positional Encoding\n",
    "\n",
    "* A good explanation for positional encoding and the use of sinusoidal functions to achieve this is detailed in the [hugginface blog](https://huggingface.co/blog/designing-positional-encoding). The matrix of positional values `pi_matrix` is created using torch cos and sin functions.\n",
    "* We note that this matrix is assigned as [register_buffer](https://discuss.pytorch.org/t/what-is-the-difference-between-register-buffer-and-register-parameter-of-nn-module/32723). This allows us to use this matrix of values in the model (on the GPU), but they are not stored as learned parameters.\n",
    "\n",
    "* Finally we note that this block creates the classification token. This token is defined as learned parameter using [nn.parameter](https://pytorch.org/docs/stable/generated/torch.nn.parameter.Parameter.html). The classification token will increase the number of tokens by 1 over the number of patches. This token is passed through the self-attention blocks and receives information from other patches. It can be used to predict classes at the output."
   ]
  },
  {
   "cell_type": "code",
   "execution_count": 11,
   "metadata": {
    "id": "IAAuVGVV8-x6"
   },
   "outputs": [],
   "source": [
    "\n",
    "class Positional_encoding(nn.Module):\n",
    "    def __init__(self,d_transformer,n_patches):\n",
    "        super().__init__()\n",
    "        self.D = d_transformer   # number of dimensions (D) in token\n",
    "        self.n_patches = n_patches   # number of patches in input\n",
    "        self.N = self.n_patches+1     # number of tokens (N) in sequence including CLS token\n",
    "\n",
    "        self.class_token = torch.nn.Parameter(torch.randn(1, 1, self.D))   # Learned embedding token\n",
    "\n",
    "        # Create matrix PI of values that can be multiplied against the input token x in forward method\n",
    "        # Matrix must be of size B x N x D\n",
    "        pi_matrix = torch.zeros(self.N,self.D)\n",
    "        for pos in range(self.N):\n",
    "            for i in range(self.D):\n",
    "              if i % 2 == 0:\n",
    "                pi_matrix[pos,i] = torch.cos(torch.tensor(pos/(10000**(2*i/self.D))))\n",
    "              else:\n",
    "                pi_matrix[pos,i] = torch.sin(torch.tensor(pos/(10000**(2*i/self.D))))\n",
    "\n",
    "        self.register_buffer('pi_matrix', pi_matrix, persistent = False)\n",
    "\n",
    "\n",
    "    def forward(self, x):\n",
    "        # Expand the cls tensor across the batch dimension and contactenate with input\n",
    "        exp_cls = self.class_token.expand(x.size()[0], -1, -1)\n",
    "        x = torch.cat((exp_cls,x),dim=1)\n",
    "        # Add the positional encoding to the input tokens\n",
    "        mult_pe = x+self.pi_matrix\n",
    "\n",
    "        return mult_pe\n",
    "\n"
   ]
  },
  {
   "cell_type": "code",
   "execution_count": 12,
   "metadata": {},
   "outputs": [
    {
     "name": "stdout",
     "output_type": "stream",
     "text": [
      "torch.Size([256, 16, 24])\n"
     ]
    }
   ],
   "source": [
    "numChannels = 3\n",
    "patchSize = 8\n",
    "numDims = 24\n",
    "\n",
    "PatchEmbedding = Patch_embedding(numChannels,numDims,patchSize)\n",
    "emb = PatchEmbedding(image_batch)\n",
    "print(emb.shape)"
   ]
  },
  {
   "cell_type": "code",
   "execution_count": 13,
   "metadata": {},
   "outputs": [
    {
     "name": "stdout",
     "output_type": "stream",
     "text": [
      "torch.Size([256, 17, 24])\n"
     ]
    }
   ],
   "source": [
    "PositionalEncoding = Positional_encoding(24,16)\n",
    "pe = PositionalEncoding(emb)\n",
    "print(pe.shape)"
   ]
  },
  {
   "cell_type": "markdown",
   "metadata": {
    "id": "pC53f0qT3i-V"
   },
   "source": [
    "3. Attention Head"
   ]
  },
  {
   "cell_type": "code",
   "execution_count": 14,
   "metadata": {
    "id": "yK0JfKDQu_Pe"
   },
   "outputs": [],
   "source": [
    "# Class to define attention head\n",
    "# step 1. Operates on a sequence of tokens of size K=8 x1 to xn where n = 17 \n",
    "# step 2. Learned weights for Q,K,V\n",
    "# step 3. dot product ok K.T with Q\n",
    "#step 4. Normalise attention\n",
    "# step 5 Scalar multiply of V with attention  \n",
    "\n",
    "class attentionHead(nn.Module):\n",
    "    def __init__(self,embSize,numHeads,numPatchs):\n",
    "        super().__init__()\n",
    "\n",
    "        self.D = int(embSize/numHeads)\n",
    "        self.P = numPatchs\n",
    "        self.Q = nn.Linear(self.D,self.D)\n",
    "        self.K = nn.Linear(self.D,self.D)\n",
    "        self.V = nn.Linear(self.D,self.D)\n",
    "        print(\"selfs \",self.D,self.P)\n",
    "        \n",
    "    def forward(self,x):\n",
    "        q = self.Q(x)\n",
    "#        print(\"q is \",q)\n",
    "        k = self.K(x)\n",
    "        v = self.V(x)\n",
    " \n",
    "        kTranspose = k.T\n",
    "#        print(\"shapes \", kTranspose.shape,q.shape)\n",
    "# dot product of K.T with q\n",
    "#        kq_scaled = torch.mm(kTranspose,q) / np.sqrt(self.tokenLength)\n",
    "#        kq_scaled = torch.mm(q,kTranspose) / np.sqrt(self.tokenLength)\n",
    "        kq_scaled = torch.bmm(q,k.transpose(1,2))\n",
    "\n",
    "        \n",
    "        normedAttn = nn.functional.softmax(kq_scaled,dim=1)\n",
    "\n",
    "#        print(\"kq is \",kq_scaled)\n",
    "\n",
    "#        print(\"normed attn \",normedAttn)\n",
    "\n",
    "        SA_X = torch.bmm(normedAttn,v)\n",
    "\n",
    "#        print(\"SA[x] \", SA_X.shape)\n",
    "\n",
    "        \n",
    "\n",
    "        return SA_X\n",
    "\n",
    "\n",
    "            \n",
    "\n"
   ]
  },
  {
   "cell_type": "markdown",
   "metadata": {
    "id": "lyk7--yK3lrY"
   },
   "source": [
    "4. Multi-Head Attention"
   ]
  },
  {
   "cell_type": "code",
   "execution_count": 15,
   "metadata": {
    "id": "PNSkeisPZGS-"
   },
   "outputs": [],
   "source": [
    "\n",
    " class MultiHeadattention(nn.Module):\n",
    "    def __init__(self,tokenLength,numHeads,numPatchs):\n",
    "        super().__init__()\n",
    "\n",
    "        self.D = tokenLength \n",
    "        self.H = numHeads\n",
    "        self.P = numPatchs\n",
    "        embSize = int(self.D/self.H)\n",
    "#        print(\"embsize \",embSize)\n",
    "        self.mha = nn.ModuleList([attentionHead(self.D,self.H,self.P) for i in range(self.H)])\n",
    "\n",
    "\n",
    "    def forward(self,x):\n",
    "        splitX = torch.tensor_split(x,self.H,dim=2)\n",
    "        i = 0\n",
    "        splitOutputs = []\n",
    "        for attnhead in self.mha:\n",
    "            splitOutputs.append(attnhead(splitX[i]))\n",
    "#            print(\"splitx shape \",splitX[i].shape)\n",
    "            i = i + 1                    \n",
    "\n",
    "            \n",
    "        SA = torch.cat(splitOutputs,dim=-1)\n",
    "\n",
    "        \n",
    "\n",
    "        return SA"
   ]
  },
  {
   "cell_type": "code",
   "execution_count": 16,
   "metadata": {},
   "outputs": [
    {
     "name": "stdout",
     "output_type": "stream",
     "text": [
      "selfs  12 16\n",
      "selfs  12 16\n",
      "torch.Size([256, 16, 24])\n"
     ]
    },
    {
     "name": "stderr",
     "output_type": "stream",
     "text": [
      "/tmp/ipykernel_630/2306292312.py:25: UserWarning: The use of `x.T` on tensors of dimension other than 2 to reverse their shape is deprecated and it will throw an error in a future release. Consider `x.mT` to transpose batches of matrices or `x.permute(*torch.arange(x.ndim - 1, -1, -1))` to reverse the dimensions of a tensor. (Triggered internally at /opt/pytorch/pytorch/aten/src/ATen/native/TensorShape.cpp:3683.)\n",
      "  kTranspose = k.T\n"
     ]
    }
   ],
   "source": [
    "MHSA=MultiHeadattention(24,2,16)\n",
    "SA = MHSA(emb)\n",
    "print(SA.shape)"
   ]
  },
  {
   "cell_type": "markdown",
   "metadata": {
    "id": "lb_k3VruvTjm"
   },
   "source": [
    "5. Transformer Encoder"
   ]
  },
  {
   "cell_type": "code",
   "execution_count": 46,
   "metadata": {
    "id": "Rq3acp8rjBlT"
   },
   "outputs": [],
   "source": [
    " class TransformerEncoder(nn.Module):\n",
    "    def __init__(self,embSize,numHeads,numPatchs):\n",
    "        super().__init__()\n",
    "        self.D = embSize\n",
    "        self.H = numHeads\n",
    "        self.P = numPatchs\n",
    "        self.normLayer1 = nn.LayerNorm(self.D)\n",
    "        self.MHA_Layer=MultiHeadattention(self.D,self.H,self.P)\n",
    "        self.normLayer2 = nn.LayerNorm(self.D)\n",
    "        nn.Dropout(p=0.2)\n",
    "        self.feedForward = nn.Sequential(\n",
    "            nn.Linear(self.D,self.D),\n",
    "            nn.GELU(),\n",
    "            nn.Linear(self.D,self.D))         \n",
    "\n",
    "\n",
    "    def forward(self,x):\n",
    "#        print(\"pe shape \", x.shape)\n",
    "#        print(\"xshape \",x.shape,self.D)\n",
    "\n",
    "#        print(\"TE \", x.shape)\n",
    "        xNorm = self.normLayer1(x)\n",
    "        MHSA = self.MHA_Layer(xNorm)\n",
    "        x = self.normLayer2(x+MHSA)\n",
    "#        print(\"mhsa \",MHSA.shape)\n",
    "        ffLayer = self.feedForward(x)\n",
    "\n",
    "\n",
    "        return x\n",
    " \n"
   ]
  },
  {
   "cell_type": "code",
   "execution_count": 47,
   "metadata": {},
   "outputs": [
    {
     "name": "stdout",
     "output_type": "stream",
     "text": [
      "selfs  12 16\n",
      "selfs  12 16\n"
     ]
    }
   ],
   "source": [
    "te = TransformerEncoder(24,2,16)\n",
    "x = te(emb)"
   ]
  },
  {
   "cell_type": "markdown",
   "metadata": {
    "id": "iKrd-yUGvRfA"
   },
   "source": [
    "6. Vision Transformer\n",
    "\n"
   ]
  },
  {
   "cell_type": "code",
   "execution_count": 48,
   "metadata": {
    "id": "ZKzMO9-nVjaR"
   },
   "outputs": [],
   "source": [
    "class Vision_transformer(nn.Module):\n",
    "    def __init__(self,numChannels,numDims,patchSize,NumPatches,numHeads,numClasses,numLayers):\n",
    "        super().__init__()\n",
    "        self.C = numChannels   # number of channels\n",
    "        self.D = numDims   # number of dimensions (D) in token\n",
    "        self.H = numHeads  # number of heads in multihead attention\n",
    "        self.P = patchSize  \n",
    "        self.NP = numPatches # number of patches in input\n",
    "        self.CLS = numClasses # \n",
    "        self.L = numLayers\n",
    "        self.N = self.P+1     # number of tokens (N) in sequence including CLS token\n",
    "\n",
    "        self.embeddingLayer =  Patch_embedding(self.C,self.D,self.P)\n",
    "        self.PELayer = Positional_encoding(self.D,self.NP)\n",
    "        transformerBlocks = [TransformerEncoder(self.D,self.H,self.P) for _ in range(self.L)]\n",
    "        self.TransformerEncoder = nn.Sequential(*transformerBlocks)\n",
    "       \n",
    "#        self.TransformerEncoder = TransformerEncoder(self.D,self.H,self.P)\n",
    "        self.mlp_head=nn.Sequential(\n",
    "            nn.Linear(self.D,self.D),\n",
    "            nn.ReLU(),\n",
    "            nn.Linear(self.D,self.CLS))\n",
    "\n",
    "\n",
    "    \n",
    "    def forward(self,x):\n",
    "#        print(\"in vit \",x.shape)\n",
    "        x = self.embeddingLayer(x)\n",
    "#        print(\"in vit \",x.shape)\n",
    "        x = self.PELayer(x)\n",
    "        TF = self.TransformerEncoder(x)\n",
    "        classToken = TF[:, 0, :] \n",
    "\n",
    "        preds = self.mlp_head(classToken)\n",
    "\n",
    "        return preds\n",
    "        \n",
    "        \n",
    " \n",
    "\n",
    "\n"
   ]
  },
  {
   "cell_type": "markdown",
   "metadata": {
    "id": "LPRk2KKrySk0"
   },
   "source": [
    "# Call Model\n",
    "In this code cell setup the configuration for your model. The dimensionality of the tokens, number of heads, number of tokens etc.\n",
    "\n",
    "Note in order for your vision transformer model to be compatible with the training loops below: Check that it accepts an image batch as input and returns an output of [B,Nc] where B is the batch size and Nc are the number of classes (10) in CIFAR-10"
   ]
  },
  {
   "cell_type": "code",
   "execution_count": 49,
   "metadata": {
    "colab": {
     "base_uri": "https://localhost:8080/"
    },
    "executionInfo": {
     "elapsed": 101,
     "status": "ok",
     "timestamp": 1740141525167,
     "user": {
      "displayName": "Tony Scanlan",
      "userId": "11380187689366571663"
     },
     "user_tz": 0
    },
    "id": "mCAEkBIOYWzS",
    "outputId": "e1904e9e-c9ed-414e-951b-5c7104c4daad"
   },
   "outputs": [
    {
     "name": "stdout",
     "output_type": "stream",
     "text": [
      "selfs  8 8\n",
      "selfs  8 8\n",
      "selfs  8 8\n",
      "selfs  8 8\n",
      "selfs  8 8\n",
      "selfs  8 8\n",
      "selfs  8 8\n",
      "selfs  8 8\n",
      "selfs  8 8\n",
      "selfs  8 8\n",
      "selfs  8 8\n",
      "selfs  8 8\n",
      "selfs  8 8\n",
      "selfs  8 8\n",
      "selfs  8 8\n",
      "selfs  8 8\n",
      "selfs  8 8\n",
      "selfs  8 8\n",
      "selfs  8 8\n",
      "selfs  8 8\n",
      "selfs  8 8\n",
      "selfs  8 8\n",
      "selfs  8 8\n",
      "selfs  8 8\n",
      "selfs  8 8\n",
      "selfs  8 8\n",
      "selfs  8 8\n",
      "selfs  8 8\n",
      "selfs  8 8\n",
      "selfs  8 8\n",
      "selfs  8 8\n",
      "selfs  8 8\n",
      "selfs  8 8\n",
      "selfs  8 8\n",
      "selfs  8 8\n",
      "selfs  8 8\n",
      "selfs  8 8\n",
      "selfs  8 8\n",
      "selfs  8 8\n",
      "selfs  8 8\n",
      "selfs  8 8\n",
      "selfs  8 8\n",
      "selfs  8 8\n",
      "selfs  8 8\n",
      "selfs  8 8\n",
      "selfs  8 8\n",
      "selfs  8 8\n",
      "selfs  8 8\n",
      "selfs  8 8\n",
      "selfs  8 8\n",
      "selfs  8 8\n",
      "selfs  8 8\n",
      "selfs  8 8\n",
      "selfs  8 8\n",
      "selfs  8 8\n",
      "selfs  8 8\n",
      "selfs  8 8\n",
      "selfs  8 8\n",
      "selfs  8 8\n",
      "selfs  8 8\n",
      "torch.Size([256, 10])\n"
     ]
    }
   ],
   "source": [
    "     # Number of input Channels\n",
    "     # Transformer Dimension\n",
    "     # Numbers of heads\n",
    "     # Number of patches (input tokens)\n",
    "     # Ouptut Classes\n",
    "     # Etc\n",
    "\n",
    "numChannels=3\n",
    "numDims=32\n",
    "numPatches=16\n",
    "numHeads = 4\n",
    "numClasses=10\n",
    "numLayers = 15\n",
    "patchSize = 8\n",
    "\n",
    "\n",
    "\n",
    "model = Vision_transformer(numChannels,numDims,patchSize,numPatches,numHeads,numClasses,numLayers)\n",
    "\n",
    "# Check model can correctly process an image batch\n",
    "op=model(image_batch)\n",
    "print(op.shape)\n"
   ]
  },
  {
   "cell_type": "code",
   "execution_count": 50,
   "metadata": {},
   "outputs": [
    {
     "name": "stdout",
     "output_type": "stream",
     "text": [
      "torch.Size([256, 10])\n"
     ]
    }
   ],
   "source": [
    "print(op.shape)"
   ]
  },
  {
   "cell_type": "code",
   "execution_count": 51,
   "metadata": {
    "colab": {
     "base_uri": "https://localhost:8080/"
    },
    "executionInfo": {
     "elapsed": 8,
     "status": "ok",
     "timestamp": 1740141530890,
     "user": {
      "displayName": "Tony Scanlan",
      "userId": "11380187689366571663"
     },
     "user_tz": 0
    },
    "id": "H0NBFWX_e7Jy",
    "outputId": "cfbb21f6-e8ed-4474-9ad0-848fad1cff43"
   },
   "outputs": [
    {
     "name": "stdout",
     "output_type": "stream",
     "text": [
      "Using cuda device\n"
     ]
    }
   ],
   "source": [
    "\n",
    "device = (\n",
    "    \"cuda\"\n",
    "    if torch.cuda.is_available()\n",
    "    else \"mps\"\n",
    "    if torch.backends.mps.is_available()\n",
    "    else \"cpu\"\n",
    ")\n",
    "print(f\"Using {device} device\")"
   ]
  },
  {
   "cell_type": "code",
   "execution_count": 52,
   "metadata": {
    "id": "aKnRVQAQHA-H"
   },
   "outputs": [
    {
     "data": {
      "text/plain": [
       "===============================================================================================\n",
       "Layer (type:depth-idx)                        Output Shape              Param #\n",
       "===============================================================================================\n",
       "Vision_transformer                            [256, 10]                 --\n",
       "├─Patch_embedding: 1-1                        [256, 16, 32]             --\n",
       "│    └─Conv2d: 2-1                            [256, 32, 4, 4]           6,176\n",
       "├─Positional_encoding: 1-2                    [256, 17, 32]             32\n",
       "├─Sequential: 1-3                             [256, 17, 32]             --\n",
       "│    └─TransformerEncoder: 2-2                [256, 17, 32]             --\n",
       "│    │    └─LayerNorm: 3-1                    [256, 17, 32]             64\n",
       "│    │    └─MultiHeadattention: 3-2           [256, 17, 32]             864\n",
       "│    │    └─LayerNorm: 3-3                    [256, 17, 32]             64\n",
       "│    │    └─Sequential: 3-4                   [256, 17, 32]             2,112\n",
       "│    └─TransformerEncoder: 2-3                [256, 17, 32]             --\n",
       "│    │    └─LayerNorm: 3-5                    [256, 17, 32]             64\n",
       "│    │    └─MultiHeadattention: 3-6           [256, 17, 32]             864\n",
       "│    │    └─LayerNorm: 3-7                    [256, 17, 32]             64\n",
       "│    │    └─Sequential: 3-8                   [256, 17, 32]             2,112\n",
       "│    └─TransformerEncoder: 2-4                [256, 17, 32]             --\n",
       "│    │    └─LayerNorm: 3-9                    [256, 17, 32]             64\n",
       "│    │    └─MultiHeadattention: 3-10          [256, 17, 32]             864\n",
       "│    │    └─LayerNorm: 3-11                   [256, 17, 32]             64\n",
       "│    │    └─Sequential: 3-12                  [256, 17, 32]             2,112\n",
       "│    └─TransformerEncoder: 2-5                [256, 17, 32]             --\n",
       "│    │    └─LayerNorm: 3-13                   [256, 17, 32]             64\n",
       "│    │    └─MultiHeadattention: 3-14          [256, 17, 32]             864\n",
       "│    │    └─LayerNorm: 3-15                   [256, 17, 32]             64\n",
       "│    │    └─Sequential: 3-16                  [256, 17, 32]             2,112\n",
       "│    └─TransformerEncoder: 2-6                [256, 17, 32]             --\n",
       "│    │    └─LayerNorm: 3-17                   [256, 17, 32]             64\n",
       "│    │    └─MultiHeadattention: 3-18          [256, 17, 32]             864\n",
       "│    │    └─LayerNorm: 3-19                   [256, 17, 32]             64\n",
       "│    │    └─Sequential: 3-20                  [256, 17, 32]             2,112\n",
       "│    └─TransformerEncoder: 2-7                [256, 17, 32]             --\n",
       "│    │    └─LayerNorm: 3-21                   [256, 17, 32]             64\n",
       "│    │    └─MultiHeadattention: 3-22          [256, 17, 32]             864\n",
       "│    │    └─LayerNorm: 3-23                   [256, 17, 32]             64\n",
       "│    │    └─Sequential: 3-24                  [256, 17, 32]             2,112\n",
       "│    └─TransformerEncoder: 2-8                [256, 17, 32]             --\n",
       "│    │    └─LayerNorm: 3-25                   [256, 17, 32]             64\n",
       "│    │    └─MultiHeadattention: 3-26          [256, 17, 32]             864\n",
       "│    │    └─LayerNorm: 3-27                   [256, 17, 32]             64\n",
       "│    │    └─Sequential: 3-28                  [256, 17, 32]             2,112\n",
       "│    └─TransformerEncoder: 2-9                [256, 17, 32]             --\n",
       "│    │    └─LayerNorm: 3-29                   [256, 17, 32]             64\n",
       "│    │    └─MultiHeadattention: 3-30          [256, 17, 32]             864\n",
       "│    │    └─LayerNorm: 3-31                   [256, 17, 32]             64\n",
       "│    │    └─Sequential: 3-32                  [256, 17, 32]             2,112\n",
       "│    └─TransformerEncoder: 2-10               [256, 17, 32]             --\n",
       "│    │    └─LayerNorm: 3-33                   [256, 17, 32]             64\n",
       "│    │    └─MultiHeadattention: 3-34          [256, 17, 32]             864\n",
       "│    │    └─LayerNorm: 3-35                   [256, 17, 32]             64\n",
       "│    │    └─Sequential: 3-36                  [256, 17, 32]             2,112\n",
       "│    └─TransformerEncoder: 2-11               [256, 17, 32]             --\n",
       "│    │    └─LayerNorm: 3-37                   [256, 17, 32]             64\n",
       "│    │    └─MultiHeadattention: 3-38          [256, 17, 32]             864\n",
       "│    │    └─LayerNorm: 3-39                   [256, 17, 32]             64\n",
       "│    │    └─Sequential: 3-40                  [256, 17, 32]             2,112\n",
       "│    └─TransformerEncoder: 2-12               [256, 17, 32]             --\n",
       "│    │    └─LayerNorm: 3-41                   [256, 17, 32]             64\n",
       "│    │    └─MultiHeadattention: 3-42          [256, 17, 32]             864\n",
       "│    │    └─LayerNorm: 3-43                   [256, 17, 32]             64\n",
       "│    │    └─Sequential: 3-44                  [256, 17, 32]             2,112\n",
       "│    └─TransformerEncoder: 2-13               [256, 17, 32]             --\n",
       "│    │    └─LayerNorm: 3-45                   [256, 17, 32]             64\n",
       "│    │    └─MultiHeadattention: 3-46          [256, 17, 32]             864\n",
       "│    │    └─LayerNorm: 3-47                   [256, 17, 32]             64\n",
       "│    │    └─Sequential: 3-48                  [256, 17, 32]             2,112\n",
       "│    └─TransformerEncoder: 2-14               [256, 17, 32]             --\n",
       "│    │    └─LayerNorm: 3-49                   [256, 17, 32]             64\n",
       "│    │    └─MultiHeadattention: 3-50          [256, 17, 32]             864\n",
       "│    │    └─LayerNorm: 3-51                   [256, 17, 32]             64\n",
       "│    │    └─Sequential: 3-52                  [256, 17, 32]             2,112\n",
       "│    └─TransformerEncoder: 2-15               [256, 17, 32]             --\n",
       "│    │    └─LayerNorm: 3-53                   [256, 17, 32]             64\n",
       "│    │    └─MultiHeadattention: 3-54          [256, 17, 32]             864\n",
       "│    │    └─LayerNorm: 3-55                   [256, 17, 32]             64\n",
       "│    │    └─Sequential: 3-56                  [256, 17, 32]             2,112\n",
       "│    └─TransformerEncoder: 2-16               [256, 17, 32]             --\n",
       "│    │    └─LayerNorm: 3-57                   [256, 17, 32]             64\n",
       "│    │    └─MultiHeadattention: 3-58          [256, 17, 32]             864\n",
       "│    │    └─LayerNorm: 3-59                   [256, 17, 32]             64\n",
       "│    │    └─Sequential: 3-60                  [256, 17, 32]             2,112\n",
       "├─Sequential: 1-4                             [256, 10]                 --\n",
       "│    └─Linear: 2-17                           [256, 32]                 1,056\n",
       "│    └─ReLU: 2-18                             [256, 32]                 --\n",
       "│    └─Linear: 2-19                           [256, 10]                 330\n",
       "===============================================================================================\n",
       "Total params: 54,154\n",
       "Trainable params: 54,154\n",
       "Non-trainable params: 0\n",
       "Total mult-adds (M): 37.57\n",
       "===============================================================================================\n",
       "Input size (MB): 3.15\n",
       "Forward/backward pass size (MB): 119.23\n",
       "Params size (MB): 0.22\n",
       "Estimated Total Size (MB): 122.59\n",
       "==============================================================================================="
      ]
     },
     "execution_count": 52,
     "metadata": {},
     "output_type": "execute_result"
    }
   ],
   "source": [
    "from torchinfo import summary\n",
    "# Ensure input size is correct\n",
    "model=model.to(device)\n",
    "summary(model, input_size=(batch_size, 3, 32, 32))"
   ]
  },
  {
   "cell_type": "markdown",
   "metadata": {
    "id": "Q3_9Lw9zOtNJ"
   },
   "source": [
    "# Optimisation & Training Loop\n",
    "\n",
    "For this classification problem we will use the  [CrossEntropy loss](https://pytorch.org/docs/stable/generated/torch.nn.CrossEntropyLoss.html). In this pytorch function, the input is the un-normalised logit value.\n",
    "\n",
    "* The SGD (Stocasitc Gradient Descent) Optimiser with cyclic learning rate schedule is provided as a the default training configuration. You may change this in order to improve model training.\n",
    "\n",
    "* Note that you can interrupt the training if it has converged (or failed) and then view the tensorboard curves and also obtain accuracy of the test set (by running the appropriate cells).\n",
    "\n",
    "* Make sure to run the model call and optimiser call before starting training again to ensure the previous training state is cleared.\n",
    "\n",
    "[Tensorboard is imported](https://pytorch.org/tutorials/beginner/introyt/tensorboardyt_tutorial.html) to display results.\n"
   ]
  },
  {
   "cell_type": "code",
   "execution_count": 53,
   "metadata": {
    "id": "QPTIUQx5xqVJ"
   },
   "outputs": [],
   "source": [
    "loss_fn = nn.CrossEntropyLoss()\n",
    "opt_lr = 0.004\n",
    "momentum = 0.95\n",
    "weight_decay = 0.0005\n",
    "optimizer = torch.optim.SGD(model.parameters(), lr=opt_lr, momentum=momentum, weight_decay=weight_decay) # lr=0.01\n",
    "\n",
    "#0.0005, 0.005\n",
    "lr_scheduler=torch.optim.lr_scheduler.CyclicLR(optimizer, 0.0001, 0.02,\n",
    "                                  step_size_up=2000, step_size_down=2000,\n",
    "                                  mode='triangular', gamma=1.0, scale_fn=None,\n",
    "                                  scale_mode='exp_range', cycle_momentum=True,\n",
    "                                  base_momentum=0.8, max_momentum=0.9, last_epoch=-1,\n",
    "                                  verbose='deprecated')"
   ]
  },
  {
   "cell_type": "markdown",
   "metadata": {
    "id": "r21Zjf3wx4Nt"
   },
   "source": [
    "Initialise Tensorboard (use of tensorboard in colab notebooks is [detailed here](https://colab.research.google.com/github/tensorflow/tensorboard/blob/master/docs/tensorboard_in_notebooks.ipynb))\n"
   ]
  },
  {
   "cell_type": "code",
   "execution_count": 54,
   "metadata": {
    "id": "fd9d6fJIx7w1"
   },
   "outputs": [],
   "source": [
    "\n",
    "\n",
    "# Amend Run names based on hyperparamters and add date & time\n",
    "run_name = 'My Run'\n",
    "timestamp = datetime.datetime.now().strftime(\"%Y-%m-%d_%H-%M-%S\")\n",
    "log_dir = f\"runs/{run_name}_{timestamp}\"\n",
    "writer = SummaryWriter(log_dir=log_dir)\n"
   ]
  },
  {
   "cell_type": "markdown",
   "metadata": {
    "id": "PRzXfw3K4P_L"
   },
   "source": [
    "Training & Validataion Loop (Combine into a single loop [link text](https://pytorch.org/tutorials/beginner/introyt/tensorboardyt_tutorial.html). In order to setup GUI with plots, [need to structure the naming convention](https://pytorch.org/docs/stable/tensorboard.html))"
   ]
  },
  {
   "cell_type": "code",
   "execution_count": 55,
   "metadata": {
    "id": "SwABO9ylyP0E"
   },
   "outputs": [],
   "source": [
    "\n",
    "# Train step that operates on each batch\n",
    "def train_step(inputs, labels):\n",
    "        model.train(True)\n",
    "        # Forward Pass through Model\n",
    "        outputs = model(inputs)\n",
    "        # Calculate Loss\n",
    "        loss = loss_fn(outputs, labels)\n",
    "        # perform backward step\n",
    "        loss.backward()\n",
    "        # Update optimiser and zero gradients\n",
    "        optimizer.step()\n",
    "        optimizer.zero_grad()\n",
    "\n",
    "        return loss, outputs\n",
    "\n",
    "# Test step that operates on each batch\n",
    "def val_step(inputs, labels):\n",
    "        model.train(False)\n",
    "        # Forward Pass through Model\n",
    "        outputs = model(inputs)\n",
    "        # Calculate Loss\n",
    "        loss = loss_fn(outputs, labels)\n",
    "\n",
    "        return loss, outputs\n",
    "\n",
    "# Create a class to handle metrics with methods to accumulate the loss/accuracy\n",
    "# and print average over interval of iterations\n",
    "class tt_metrics:\n",
    "\n",
    "  def __init__(self,dataloader,type,n_iter=100000):\n",
    "\n",
    "        self.dataloader = dataloader\n",
    "        self.num_batches = len(dataloader)         # batches in epoch\n",
    "        self.num_samples = len(dataloader.dataset) # samples in epoch\n",
    "        self.avg_loss = 0\n",
    "        self.avg_acc = 0\n",
    "        self.type = type\n",
    "        # Determine number of iterations / samples for metric calculation\n",
    "        # number of iterations can be less than (max) iterations in an epoch\n",
    "        # max is number of iterations in epoch.\n",
    "        self.n_iter = min(n_iter,self.num_batches)\n",
    "\n",
    "        # Intialise accumulators for determining loss and accuracy\n",
    "        self.running_loss = 0.0\n",
    "        self.running_acc = 0.0\n",
    "\n",
    "  def update_acc(self, loss, outputs, labels):\n",
    "        # Accumulate loss\n",
    "        self.running_loss += loss.item()\n",
    "        # Accumulate Accuracy\n",
    "        self.running_acc += (outputs.argmax(1) == labels).type(torch.float).sum().item()\n",
    "\n",
    "  def calc_metrics(self,batch_size):\n",
    "            # Where n_iter is interval calculating average over\n",
    "            # and type is a string denoting, train val or test\n",
    "            self.avg_loss = self.running_loss / self.n_iter   # divide by number of batches are computing over\n",
    "            self.avg_acc = 100*self.running_acc / (self.n_iter*batch_size) # divide by number of examples computing accuracy over\n",
    "\n",
    "            # Reset accumulation\n",
    "            self.running_loss = 0.0\n",
    "            self.running_acc = 0.0\n",
    "\n",
    "\n",
    "def tb_write(train_metrics,val_metrics,epoch,i):\n",
    "\n",
    "      # Calculate metrics for Train & Test\n",
    "      train_metrics.calc_metrics(batch_size)\n",
    "      val_metrics.calc_metrics(batch_size)\n",
    "\n",
    "      # Print intermediate results\n",
    "      print('Epoch {}'.format(epoch),' Batch {}'.format(i + 1))\n",
    "      print(f\"{train_metrics.type} Error: \\n Accuracy: {(train_metrics.avg_acc):>0.1f}%, Avg loss: {train_metrics.avg_loss:>8f} \\n\")\n",
    "      print(f\"{val_metrics.type} Error: \\n Accuracy: {(val_metrics.avg_acc):>0.1f}%, Avg loss: {val_metrics.avg_loss:>8f} \\n\")\n",
    "\n",
    "      # Log the running loss averaged per batch\n",
    "      writer.add_scalars('Loss',\n",
    "                            { f\"{train_metrics.type}/Loss\" : train_metrics.avg_loss, f\"{val_metrics.type}/Loss\" : val_metrics.avg_loss },\n",
    "                            epoch * len(train_dataloader) + i)\n",
    "      writer.add_scalars('Accuracy',\n",
    "                            {f\"{train_metrics.type}/Accuracy\" : train_metrics.avg_acc, f\"{val_metrics.type}/Accuracy\" : val_metrics.avg_acc },\n",
    "                            epoch * len(train_dataloader) + i)\n",
    "\n",
    "\n",
    "# Main training & evaluation loop\n",
    "def train_eval_loop(model,n_epochs,n_iter):\n",
    "    # Where n_epochs is the number of epochs and n_iter can be set to\n",
    "    # a value less than number iterations in an epoch if required\n",
    "    model = model.to(device)\n",
    "    for epoch in range(n_epochs):  # loop over the dataset multiple times\n",
    "      # Intialise metrics\n",
    "      train_metrics = tt_metrics(train_dataloader,type='Train',n_iter=100)\n",
    "      val_metrics = tt_metrics(test_dataloader,type='Test')\n",
    "\n",
    "      # Enumerate over the training data\n",
    "      for i, data in enumerate(train_dataloader, 0):\n",
    "        # Extract images and labels and transfer to device\n",
    "        inputs, labels = data\n",
    "        inputs, labels = inputs.to(device), labels.to(device)\n",
    "\n",
    "        # Run train step (returns loss outputs for metrics)\n",
    "        loss, outputs = train_step(inputs, labels)\n",
    "\n",
    "        # update metrics\n",
    "        train_metrics.update_acc(loss, outputs, labels)\n",
    "\n",
    "        # Apply learning rate scheduler\n",
    "        lr_scheduler.step()\n",
    "        # Call evaluation step after n_iter\n",
    "        if i % n_iter == n_iter-1:    # Every n mini-batches...\n",
    "\n",
    "\n",
    "            for j, vdata in enumerate(test_dataloader, 0):\n",
    "               # Extract images and labels and transfer to device\n",
    "               vinputs, vlabels = vdata\n",
    "               vinputs, vlabels = vinputs.to(device), vlabels.to(device)\n",
    "\n",
    "               # Run train step (returns loss outputs for metrics)\n",
    "               vloss, voutputs = val_step(vinputs, vlabels)\n",
    "\n",
    "               # update metrics\n",
    "               val_metrics.update_acc(vloss, voutputs, vlabels)\n",
    "\n",
    "            # Calculate and Print metrics (metrics reset after calculation)\n",
    "            tb_write(train_metrics,val_metrics,epoch,i)\n",
    "            print('LR value = ',lr_scheduler.get_last_lr())\n",
    "\n",
    "      # Apply Schedule at end of each epoch.\n",
    "      #lr_scheduler.step(val_metrics.avg_loss)\n",
    "\n",
    "\n",
    "\n",
    "writer.flush()"
   ]
  },
  {
   "cell_type": "code",
   "execution_count": 56,
   "metadata": {
    "id": "fqfjZz0vKRI-"
   },
   "outputs": [
    {
     "name": "stdout",
     "output_type": "stream",
     "text": [
      "Epoch 0  Batch 100\n",
      "Train Error: \n",
      " Accuracy: 12.6%, Avg loss: 2.311140 \n",
      "\n",
      "Test Error: \n",
      " Accuracy: 14.7%, Avg loss: 2.282620 \n",
      "\n",
      "LR value =  [0.0010949999999999966]\n",
      "Epoch 1  Batch 100\n",
      "Train Error: \n",
      " Accuracy: 20.5%, Avg loss: 2.132443 \n",
      "\n",
      "Test Error: \n",
      " Accuracy: 22.0%, Avg loss: 2.061281 \n",
      "\n",
      "LR value =  [0.0030452000000000027]\n",
      "Epoch 2  Batch 100\n",
      "Train Error: \n",
      " Accuracy: 26.6%, Avg loss: 1.937592 \n",
      "\n",
      "Test Error: \n",
      " Accuracy: 27.8%, Avg loss: 1.890677 \n",
      "\n",
      "LR value =  [0.0049954000000000005]\n",
      "Epoch 3  Batch 100\n",
      "Train Error: \n",
      " Accuracy: 31.0%, Avg loss: 1.837239 \n",
      "\n",
      "Test Error: \n",
      " Accuracy: 31.4%, Avg loss: 1.813543 \n",
      "\n",
      "LR value =  [0.006945599999999998]\n",
      "Epoch 4  Batch 100\n",
      "Train Error: \n",
      " Accuracy: 32.9%, Avg loss: 1.777276 \n",
      "\n",
      "Test Error: \n",
      " Accuracy: 33.4%, Avg loss: 1.765490 \n",
      "\n",
      "LR value =  [0.008895800000000004]\n",
      "Epoch 5  Batch 100\n",
      "Train Error: \n",
      " Accuracy: 34.7%, Avg loss: 1.734689 \n",
      "\n",
      "Test Error: \n",
      " Accuracy: 34.7%, Avg loss: 1.729813 \n",
      "\n",
      "LR value =  [0.010846000000000001]\n",
      "Epoch 6  Batch 100\n",
      "Train Error: \n",
      " Accuracy: 36.1%, Avg loss: 1.705034 \n",
      "\n",
      "Test Error: \n",
      " Accuracy: 36.6%, Avg loss: 1.695703 \n",
      "\n",
      "LR value =  [0.012796199999999999]\n",
      "Epoch 7  Batch 100\n",
      "Train Error: \n",
      " Accuracy: 37.1%, Avg loss: 1.676263 \n",
      "\n",
      "Test Error: \n",
      " Accuracy: 38.4%, Avg loss: 1.644707 \n",
      "\n",
      "LR value =  [0.014746399999999996]\n",
      "Epoch 8  Batch 100\n",
      "Train Error: \n",
      " Accuracy: 38.4%, Avg loss: 1.659411 \n",
      "\n",
      "Test Error: \n",
      " Accuracy: 38.4%, Avg loss: 1.658084 \n",
      "\n",
      "LR value =  [0.016696600000000002]\n",
      "Epoch 9  Batch 100\n",
      "Train Error: \n",
      " Accuracy: 39.7%, Avg loss: 1.626610 \n",
      "\n",
      "Test Error: \n",
      " Accuracy: 39.6%, Avg loss: 1.610431 \n",
      "\n",
      "LR value =  [0.018646799999999998]\n",
      "Epoch 10  Batch 100\n",
      "Train Error: \n",
      " Accuracy: 39.7%, Avg loss: 1.623671 \n",
      "\n",
      "Test Error: \n",
      " Accuracy: 37.3%, Avg loss: 1.640351 \n",
      "\n",
      "LR value =  [0.019402999999999997]\n",
      "Epoch 11  Batch 100\n",
      "Train Error: \n",
      " Accuracy: 40.4%, Avg loss: 1.598712 \n",
      "\n",
      "Test Error: \n",
      " Accuracy: 41.0%, Avg loss: 1.603510 \n",
      "\n",
      "LR value =  [0.017452799999999997]\n",
      "Epoch 12  Batch 100\n",
      "Train Error: \n",
      " Accuracy: 41.9%, Avg loss: 1.573229 \n",
      "\n",
      "Test Error: \n",
      " Accuracy: 40.7%, Avg loss: 1.594993 \n",
      "\n",
      "LR value =  [0.0155026]\n",
      "Epoch 13  Batch 100\n",
      "Train Error: \n",
      " Accuracy: 42.4%, Avg loss: 1.554934 \n",
      "\n",
      "Test Error: \n",
      " Accuracy: 42.2%, Avg loss: 1.538444 \n",
      "\n",
      "LR value =  [0.013552400000000003]\n",
      "Epoch 14  Batch 100\n",
      "Train Error: \n",
      " Accuracy: 42.9%, Avg loss: 1.539239 \n",
      "\n",
      "Test Error: \n",
      " Accuracy: 42.1%, Avg loss: 1.559131 \n",
      "\n",
      "LR value =  [0.011602200000000005]\n",
      "Epoch 15  Batch 100\n",
      "Train Error: \n",
      " Accuracy: 43.8%, Avg loss: 1.519119 \n",
      "\n",
      "Test Error: \n",
      " Accuracy: 43.6%, Avg loss: 1.510445 \n",
      "\n",
      "LR value =  [0.009651999999999999]\n",
      "Epoch 16  Batch 100\n",
      "Train Error: \n",
      " Accuracy: 44.0%, Avg loss: 1.510996 \n",
      "\n",
      "Test Error: \n",
      " Accuracy: 43.2%, Avg loss: 1.530718 \n",
      "\n",
      "LR value =  [0.007701799999999994]\n",
      "Epoch 17  Batch 100\n",
      "Train Error: \n",
      " Accuracy: 45.4%, Avg loss: 1.486145 \n",
      "\n",
      "Test Error: \n",
      " Accuracy: 44.4%, Avg loss: 1.486829 \n",
      "\n",
      "LR value =  [0.0057515999999999965]\n",
      "Epoch 18  Batch 100\n",
      "Train Error: \n",
      " Accuracy: 45.6%, Avg loss: 1.478498 \n",
      "\n",
      "Test Error: \n",
      " Accuracy: 44.9%, Avg loss: 1.480727 \n",
      "\n",
      "LR value =  [0.003801399999999999]\n",
      "Epoch 19  Batch 100\n",
      "Train Error: \n",
      " Accuracy: 46.4%, Avg loss: 1.454499 \n",
      "\n",
      "Test Error: \n",
      " Accuracy: 44.0%, Avg loss: 1.494225 \n",
      "\n",
      "LR value =  [0.0018512000000000016]\n",
      "Epoch 20  Batch 100\n",
      "Train Error: \n",
      " Accuracy: 47.3%, Avg loss: 1.438562 \n",
      "\n",
      "Test Error: \n",
      " Accuracy: 45.0%, Avg loss: 1.464341 \n",
      "\n",
      "LR value =  [0.0002989999999999958]\n",
      "Epoch 21  Batch 100\n",
      "Train Error: \n",
      " Accuracy: 46.6%, Avg loss: 1.445706 \n",
      "\n",
      "Test Error: \n",
      " Accuracy: 45.4%, Avg loss: 1.459498 \n",
      "\n",
      "LR value =  [0.0022492000000000107]\n",
      "Epoch 22  Batch 100\n",
      "Train Error: \n",
      " Accuracy: 46.6%, Avg loss: 1.455294 \n",
      "\n",
      "Test Error: \n",
      " Accuracy: 44.2%, Avg loss: 1.506685 \n",
      "\n",
      "LR value =  [0.004199399999999991]\n",
      "Epoch 23  Batch 100\n",
      "Train Error: \n",
      " Accuracy: 46.3%, Avg loss: 1.463737 \n",
      "\n",
      "Test Error: \n",
      " Accuracy: 44.1%, Avg loss: 1.492661 \n",
      "\n",
      "LR value =  [0.006149600000000006]\n",
      "Epoch 24  Batch 100\n",
      "Train Error: \n",
      " Accuracy: 45.9%, Avg loss: 1.472941 \n",
      "\n",
      "Test Error: \n",
      " Accuracy: 44.8%, Avg loss: 1.476597 \n",
      "\n",
      "LR value =  [0.008099800000000002]\n",
      "Epoch 25  Batch 100\n",
      "Train Error: \n",
      " Accuracy: 46.0%, Avg loss: 1.475010 \n",
      "\n",
      "Test Error: \n",
      " Accuracy: 42.9%, Avg loss: 1.522320 \n",
      "\n",
      "LR value =  [0.01005]\n",
      "Epoch 26  Batch 100\n",
      "Train Error: \n",
      " Accuracy: 45.7%, Avg loss: 1.479612 \n",
      "\n",
      "Test Error: \n",
      " Accuracy: 42.9%, Avg loss: 1.530204 \n",
      "\n",
      "LR value =  [0.012000199999999997]\n",
      "Epoch 27  Batch 100\n",
      "Train Error: \n",
      " Accuracy: 46.1%, Avg loss: 1.475902 \n",
      "\n",
      "Test Error: \n",
      " Accuracy: 45.0%, Avg loss: 1.457698 \n",
      "\n",
      "LR value =  [0.013950399999999995]\n",
      "Epoch 28  Batch 100\n",
      "Train Error: \n",
      " Accuracy: 46.5%, Avg loss: 1.463799 \n",
      "\n",
      "Test Error: \n",
      " Accuracy: 45.1%, Avg loss: 1.483150 \n",
      "\n",
      "LR value =  [0.01590060000000001]\n",
      "Epoch 29  Batch 100\n",
      "Train Error: \n",
      " Accuracy: 46.1%, Avg loss: 1.469894 \n",
      "\n",
      "Test Error: \n",
      " Accuracy: 44.8%, Avg loss: 1.483368 \n",
      "\n",
      "LR value =  [0.01785079999999999]\n",
      "Epoch 30  Batch 100\n",
      "Train Error: \n",
      " Accuracy: 46.0%, Avg loss: 1.468627 \n",
      "\n",
      "Test Error: \n",
      " Accuracy: 44.2%, Avg loss: 1.494449 \n",
      "\n",
      "LR value =  [0.019801000000000006]\n",
      "Epoch 31  Batch 100\n",
      "Train Error: \n",
      " Accuracy: 47.2%, Avg loss: 1.459658 \n",
      "\n",
      "Test Error: \n",
      " Accuracy: 44.4%, Avg loss: 1.490868 \n",
      "\n",
      "LR value =  [0.0182488]\n",
      "Epoch 32  Batch 100\n",
      "Train Error: \n",
      " Accuracy: 47.1%, Avg loss: 1.443975 \n",
      "\n",
      "Test Error: \n",
      " Accuracy: 46.2%, Avg loss: 1.441493 \n",
      "\n",
      "LR value =  [0.0162986]\n",
      "Epoch 33  Batch 100\n",
      "Train Error: \n",
      " Accuracy: 47.8%, Avg loss: 1.441322 \n",
      "\n",
      "Test Error: \n",
      " Accuracy: 46.0%, Avg loss: 1.453951 \n",
      "\n",
      "LR value =  [0.014348400000000004]\n",
      "Epoch 34  Batch 100\n",
      "Train Error: \n",
      " Accuracy: 47.7%, Avg loss: 1.428001 \n",
      "\n",
      "Test Error: \n",
      " Accuracy: 46.6%, Avg loss: 1.428428 \n",
      "\n",
      "LR value =  [0.012398200000000007]\n",
      "Epoch 35  Batch 100\n",
      "Train Error: \n",
      " Accuracy: 48.5%, Avg loss: 1.418326 \n",
      "\n",
      "Test Error: \n",
      " Accuracy: 47.5%, Avg loss: 1.420348 \n",
      "\n",
      "LR value =  [0.010447999999999992]\n",
      "Epoch 36  Batch 100\n",
      "Train Error: \n",
      " Accuracy: 48.8%, Avg loss: 1.407187 \n",
      "\n",
      "Test Error: \n",
      " Accuracy: 46.3%, Avg loss: 1.446362 \n",
      "\n",
      "LR value =  [0.008497800000000012]\n",
      "Epoch 37  Batch 100\n",
      "Train Error: \n",
      " Accuracy: 49.0%, Avg loss: 1.394783 \n",
      "\n",
      "Test Error: \n",
      " Accuracy: 47.7%, Avg loss: 1.416957 \n",
      "\n",
      "LR value =  [0.006547599999999997]\n",
      "Epoch 38  Batch 100\n",
      "Train Error: \n",
      " Accuracy: 50.4%, Avg loss: 1.370586 \n",
      "\n",
      "Test Error: \n",
      " Accuracy: 48.3%, Avg loss: 1.392016 \n",
      "\n",
      "LR value =  [0.0045974]\n",
      "Epoch 39  Batch 100\n",
      "Train Error: \n",
      " Accuracy: 50.6%, Avg loss: 1.355357 \n",
      "\n",
      "Test Error: \n",
      " Accuracy: 48.5%, Avg loss: 1.390225 \n",
      "\n",
      "LR value =  [0.0026472000000000023]\n",
      "Epoch 40  Batch 100\n",
      "Train Error: \n",
      " Accuracy: 51.5%, Avg loss: 1.341529 \n",
      "\n",
      "Test Error: \n",
      " Accuracy: 49.3%, Avg loss: 1.370498 \n",
      "\n",
      "LR value =  [0.0006969999999999873]\n",
      "Epoch 41  Batch 100\n",
      "Train Error: \n",
      " Accuracy: 50.7%, Avg loss: 1.354437 \n",
      "\n",
      "Test Error: \n",
      " Accuracy: 48.7%, Avg loss: 1.374992 \n",
      "\n",
      "LR value =  [0.0014531999999999924]\n",
      "Epoch 42  Batch 100\n",
      "Train Error: \n",
      " Accuracy: 51.0%, Avg loss: 1.350800 \n",
      "\n",
      "Test Error: \n",
      " Accuracy: 48.5%, Avg loss: 1.378845 \n",
      "\n",
      "LR value =  [0.0034034000000000074]\n",
      "Epoch 43  Batch 100\n",
      "Train Error: \n",
      " Accuracy: 50.5%, Avg loss: 1.369593 \n",
      "\n",
      "Test Error: \n",
      " Accuracy: 48.5%, Avg loss: 1.392194 \n",
      "\n",
      "LR value =  [0.005353600000000005]\n",
      "Epoch 44  Batch 100\n",
      "Train Error: \n",
      " Accuracy: 50.1%, Avg loss: 1.380879 \n",
      "\n",
      "Test Error: \n",
      " Accuracy: 48.6%, Avg loss: 1.379159 \n",
      "\n",
      "LR value =  [0.007303800000000003]\n",
      "Epoch 45  Batch 100\n",
      "Train Error: \n",
      " Accuracy: 49.6%, Avg loss: 1.381338 \n",
      "\n",
      "Test Error: \n",
      " Accuracy: 48.6%, Avg loss: 1.382894 \n",
      "\n",
      "LR value =  [0.009253999999999998]\n",
      "Epoch 46  Batch 100\n",
      "Train Error: \n",
      " Accuracy: 50.1%, Avg loss: 1.372559 \n",
      "\n",
      "Test Error: \n",
      " Accuracy: 46.9%, Avg loss: 1.453235 \n",
      "\n",
      "LR value =  [0.011204199999999996]\n",
      "Epoch 47  Batch 100\n",
      "Train Error: \n",
      " Accuracy: 49.2%, Avg loss: 1.389777 \n",
      "\n",
      "Test Error: \n",
      " Accuracy: 48.2%, Avg loss: 1.398483 \n",
      "\n",
      "LR value =  [0.013154399999999993]\n",
      "Epoch 48  Batch 100\n",
      "Train Error: \n",
      " Accuracy: 49.5%, Avg loss: 1.391745 \n",
      "\n",
      "Test Error: \n",
      " Accuracy: 47.7%, Avg loss: 1.420783 \n",
      "\n",
      "LR value =  [0.01510459999999999]\n",
      "Epoch 49  Batch 100\n",
      "Train Error: \n",
      " Accuracy: 49.6%, Avg loss: 1.388718 \n",
      "\n",
      "Test Error: \n",
      " Accuracy: 47.5%, Avg loss: 1.421760 \n",
      "\n",
      "LR value =  [0.017054800000000005]\n"
     ]
    }
   ],
   "source": [
    "n_epochs=50\n",
    "n_iter=100\n",
    "train_eval_loop(model,n_epochs,n_iter)"
   ]
  },
  {
   "cell_type": "markdown",
   "metadata": {
    "id": "OhbzbvKrdKvh"
   },
   "source": [
    "Note when r[unning colab container on docker, tensorboard](https://leimao.github.io/blog/TensorBoard-On-Docker/) will open on webpage: http://127.0.0.1:6006/"
   ]
  },
  {
   "cell_type": "code",
   "execution_count": 57,
   "metadata": {
    "id": "CWWFZg3mPLU5"
   },
   "outputs": [
    {
     "data": {
      "text/html": [
       "\n",
       "      <iframe id=\"tensorboard-frame-1153b9fcd50bd962\" width=\"100%\" height=\"800\" frameborder=\"0\">\n",
       "      </iframe>\n",
       "      <script>\n",
       "        (function() {\n",
       "          const frame = document.getElementById(\"tensorboard-frame-1153b9fcd50bd962\");\n",
       "          const url = new URL(\"/\", window.location);\n",
       "          const port = 6006;\n",
       "          if (port) {\n",
       "            url.port = port;\n",
       "          }\n",
       "          frame.src = url;\n",
       "        })();\n",
       "      </script>\n",
       "    "
      ],
      "text/plain": [
       "<IPython.core.display.HTML object>"
      ]
     },
     "metadata": {},
     "output_type": "display_data"
    }
   ],
   "source": [
    "#%load_ext tensorboard\n",
    "%reload_ext tensorboard\n",
    "%tensorboard --logdir runs --bind_all"
   ]
  },
  {
   "cell_type": "markdown",
   "metadata": {
    "id": "c14uQnBWqjfp"
   },
   "source": [
    "# Evaluate Model\n",
    "We will obtain the classification report after final evaluation of the test dataset with the model. A confusion matrix can also be obtained and we will plot a few example images."
   ]
  },
  {
   "cell_type": "code",
   "execution_count": 58,
   "metadata": {
    "id": "m1p_BCQGqk0B"
   },
   "outputs": [
    {
     "name": "stderr",
     "output_type": "stream",
     "text": [
      "/usr/local/lib/python3.10/dist-packages/numpy/core/fromnumeric.py:43: FutureWarning: The input object of type 'Tensor' is an array-like implementing one of the corresponding protocols (`__array__`, `__array_interface__` or `__array_struct__`); but not a sequence (or 0-D). In the future, this object will be coerced as if it was first converted using `np.array(obj)`. To retain the old behaviour, you have to either modify the type 'Tensor', or assign to an empty array created with `np.empty(correct_shape, dtype=object)`.\n",
      "  result = getattr(asarray(obj), method)(*args, **kwds)\n"
     ]
    },
    {
     "ename": "ValueError",
     "evalue": "setting an array element with a sequence. The requested array has an inhomogeneous shape after 1 dimensions. The detected shape was (39,) + inhomogeneous part.",
     "output_type": "error",
     "traceback": [
      "\u001b[0;31m---------------------------------------------------------------------------\u001b[0m",
      "\u001b[0;31mValueError\u001b[0m                                Traceback (most recent call last)",
      "Cell \u001b[0;32mIn[58], line 31\u001b[0m\n\u001b[1;32m     28\u001b[0m    y_true \u001b[38;5;241m=\u001b[39m np\u001b[38;5;241m.\u001b[39msqueeze(np\u001b[38;5;241m.\u001b[39mreshape(store_labels,(\u001b[38;5;241m1\u001b[39m,(num_test_batches\u001b[38;5;241m-\u001b[39m\u001b[38;5;241m1\u001b[39m)\u001b[38;5;241m*\u001b[39mbatch_size)))\n\u001b[1;32m     29\u001b[0m    \u001b[38;5;28;01mreturn\u001b[39;00m y_pred, y_true\n\u001b[0;32m---> 31\u001b[0m y_pred, y_true \u001b[38;5;241m=\u001b[39m \u001b[43meval_loop\u001b[49m\u001b[43m(\u001b[49m\u001b[43mtest_dataloader\u001b[49m\u001b[43m)\u001b[49m\n",
      "Cell \u001b[0;32mIn[58], line 28\u001b[0m, in \u001b[0;36meval_loop\u001b[0;34m(test_dataloader)\u001b[0m\n\u001b[1;32m     25\u001b[0m      store_labels\u001b[38;5;241m.\u001b[39mappend(label_batch)\n\u001b[1;32m     27\u001b[0m y_pred \u001b[38;5;241m=\u001b[39m np\u001b[38;5;241m.\u001b[39msqueeze(np\u001b[38;5;241m.\u001b[39mreshape(store_predictions,(\u001b[38;5;241m1\u001b[39m,(num_test_batches\u001b[38;5;241m-\u001b[39m\u001b[38;5;241m1\u001b[39m)\u001b[38;5;241m*\u001b[39mbatch_size)))\n\u001b[0;32m---> 28\u001b[0m y_true \u001b[38;5;241m=\u001b[39m np\u001b[38;5;241m.\u001b[39msqueeze(\u001b[43mnp\u001b[49m\u001b[38;5;241;43m.\u001b[39;49m\u001b[43mreshape\u001b[49m\u001b[43m(\u001b[49m\u001b[43mstore_labels\u001b[49m\u001b[43m,\u001b[49m\u001b[43m(\u001b[49m\u001b[38;5;241;43m1\u001b[39;49m\u001b[43m,\u001b[49m\u001b[43m(\u001b[49m\u001b[43mnum_test_batches\u001b[49m\u001b[38;5;241;43m-\u001b[39;49m\u001b[38;5;241;43m1\u001b[39;49m\u001b[43m)\u001b[49m\u001b[38;5;241;43m*\u001b[39;49m\u001b[43mbatch_size\u001b[49m\u001b[43m)\u001b[49m\u001b[43m)\u001b[49m)\n\u001b[1;32m     29\u001b[0m \u001b[38;5;28;01mreturn\u001b[39;00m y_pred, y_true\n",
      "File \u001b[0;32m<__array_function__ internals>:200\u001b[0m, in \u001b[0;36mreshape\u001b[0;34m(*args, **kwargs)\u001b[0m\n",
      "File \u001b[0;32m/usr/local/lib/python3.10/dist-packages/numpy/core/fromnumeric.py:298\u001b[0m, in \u001b[0;36mreshape\u001b[0;34m(a, newshape, order)\u001b[0m\n\u001b[1;32m    198\u001b[0m \u001b[38;5;129m@array_function_dispatch\u001b[39m(_reshape_dispatcher)\n\u001b[1;32m    199\u001b[0m \u001b[38;5;28;01mdef\u001b[39;00m \u001b[38;5;21mreshape\u001b[39m(a, newshape, order\u001b[38;5;241m=\u001b[39m\u001b[38;5;124m'\u001b[39m\u001b[38;5;124mC\u001b[39m\u001b[38;5;124m'\u001b[39m):\n\u001b[1;32m    200\u001b[0m \u001b[38;5;250m    \u001b[39m\u001b[38;5;124;03m\"\"\"\u001b[39;00m\n\u001b[1;32m    201\u001b[0m \u001b[38;5;124;03m    Gives a new shape to an array without changing its data.\u001b[39;00m\n\u001b[1;32m    202\u001b[0m \n\u001b[0;32m   (...)\u001b[0m\n\u001b[1;32m    296\u001b[0m \u001b[38;5;124;03m           [5, 6]])\u001b[39;00m\n\u001b[1;32m    297\u001b[0m \u001b[38;5;124;03m    \"\"\"\u001b[39;00m\n\u001b[0;32m--> 298\u001b[0m     \u001b[38;5;28;01mreturn\u001b[39;00m \u001b[43m_wrapfunc\u001b[49m\u001b[43m(\u001b[49m\u001b[43ma\u001b[49m\u001b[43m,\u001b[49m\u001b[43m \u001b[49m\u001b[38;5;124;43m'\u001b[39;49m\u001b[38;5;124;43mreshape\u001b[39;49m\u001b[38;5;124;43m'\u001b[39;49m\u001b[43m,\u001b[49m\u001b[43m \u001b[49m\u001b[43mnewshape\u001b[49m\u001b[43m,\u001b[49m\u001b[43m \u001b[49m\u001b[43morder\u001b[49m\u001b[38;5;241;43m=\u001b[39;49m\u001b[43morder\u001b[49m\u001b[43m)\u001b[49m\n",
      "File \u001b[0;32m/usr/local/lib/python3.10/dist-packages/numpy/core/fromnumeric.py:54\u001b[0m, in \u001b[0;36m_wrapfunc\u001b[0;34m(obj, method, *args, **kwds)\u001b[0m\n\u001b[1;32m     52\u001b[0m bound \u001b[38;5;241m=\u001b[39m \u001b[38;5;28mgetattr\u001b[39m(obj, method, \u001b[38;5;28;01mNone\u001b[39;00m)\n\u001b[1;32m     53\u001b[0m \u001b[38;5;28;01mif\u001b[39;00m bound \u001b[38;5;129;01mis\u001b[39;00m \u001b[38;5;28;01mNone\u001b[39;00m:\n\u001b[0;32m---> 54\u001b[0m     \u001b[38;5;28;01mreturn\u001b[39;00m \u001b[43m_wrapit\u001b[49m\u001b[43m(\u001b[49m\u001b[43mobj\u001b[49m\u001b[43m,\u001b[49m\u001b[43m \u001b[49m\u001b[43mmethod\u001b[49m\u001b[43m,\u001b[49m\u001b[43m \u001b[49m\u001b[38;5;241;43m*\u001b[39;49m\u001b[43margs\u001b[49m\u001b[43m,\u001b[49m\u001b[43m \u001b[49m\u001b[38;5;241;43m*\u001b[39;49m\u001b[38;5;241;43m*\u001b[39;49m\u001b[43mkwds\u001b[49m\u001b[43m)\u001b[49m\n\u001b[1;32m     56\u001b[0m \u001b[38;5;28;01mtry\u001b[39;00m:\n\u001b[1;32m     57\u001b[0m     \u001b[38;5;28;01mreturn\u001b[39;00m bound(\u001b[38;5;241m*\u001b[39margs, \u001b[38;5;241m*\u001b[39m\u001b[38;5;241m*\u001b[39mkwds)\n",
      "File \u001b[0;32m/usr/local/lib/python3.10/dist-packages/numpy/core/fromnumeric.py:43\u001b[0m, in \u001b[0;36m_wrapit\u001b[0;34m(obj, method, *args, **kwds)\u001b[0m\n\u001b[1;32m     41\u001b[0m \u001b[38;5;28;01mexcept\u001b[39;00m \u001b[38;5;167;01mAttributeError\u001b[39;00m:\n\u001b[1;32m     42\u001b[0m     wrap \u001b[38;5;241m=\u001b[39m \u001b[38;5;28;01mNone\u001b[39;00m\n\u001b[0;32m---> 43\u001b[0m result \u001b[38;5;241m=\u001b[39m \u001b[38;5;28mgetattr\u001b[39m(\u001b[43masarray\u001b[49m\u001b[43m(\u001b[49m\u001b[43mobj\u001b[49m\u001b[43m)\u001b[49m, method)(\u001b[38;5;241m*\u001b[39margs, \u001b[38;5;241m*\u001b[39m\u001b[38;5;241m*\u001b[39mkwds)\n\u001b[1;32m     44\u001b[0m \u001b[38;5;28;01mif\u001b[39;00m wrap:\n\u001b[1;32m     45\u001b[0m     \u001b[38;5;28;01mif\u001b[39;00m \u001b[38;5;129;01mnot\u001b[39;00m \u001b[38;5;28misinstance\u001b[39m(result, mu\u001b[38;5;241m.\u001b[39mndarray):\n",
      "\u001b[0;31mValueError\u001b[0m: setting an array element with a sequence. The requested array has an inhomogeneous shape after 1 dimensions. The detected shape was (39,) + inhomogeneous part."
     ]
    }
   ],
   "source": [
    "import numpy as np\n",
    "import matplotlib.pyplot as plt\n",
    "\n",
    "\n",
    "\n",
    "store_predictions = []\n",
    "store_labels = []\n",
    "model.eval()\n",
    "\n",
    "# Evaluation loop to produce predictions for use with scikit learn confusion matrix\n",
    "def eval_loop(test_dataloader):\n",
    "\n",
    "   num_test_batches = len(test_dataloader)\n",
    "   for i, data in enumerate(test_dataloader, 0):\n",
    "      # basic test loop\n",
    "      input_batch, label_batch = data\n",
    "      input_batch = input_batch.to(device)\n",
    "\n",
    "      pred_logit = model(input_batch)\n",
    "      predictions = torch.argmax(pred_logit,1) # reduce along output dimension\n",
    "      predictions_np = predictions.to(\"cpu\").numpy()\n",
    "      label_batch_np = label_batch.numpy()\n",
    "      if i<num_test_batches-1:\n",
    "        store_predictions.append(predictions_np)\n",
    "        store_labels.append(label_batch)\n",
    "\n",
    "   y_pred = np.squeeze(np.reshape(store_predictions,(1,(num_test_batches-1)*batch_size)))\n",
    "   y_true = np.squeeze(np.reshape(store_labels,(1,(num_test_batches-1)*batch_size)))\n",
    "   return y_pred, y_true\n",
    "\n",
    "y_pred, y_true = eval_loop(test_dataloader)"
   ]
  },
  {
   "cell_type": "code",
   "execution_count": null,
   "metadata": {
    "id": "8fNbE_u3qp-D"
   },
   "outputs": [],
   "source": [
    "#https://scikit-learn.org/0.16/auto_examples/model_selection/plot_confusion_matrix.html\n",
    "from sklearn.metrics import confusion_matrix\n",
    "cm = confusion_matrix(y_true, y_pred)\n",
    "def plot_confusion_matrix(cm, title='Confusion matrix', cmap=plt.cm.Blues):\n",
    "    plt.imshow(cm, interpolation='nearest', cmap=cmap)\n",
    "    plt.title(title)\n",
    "    plt.colorbar()\n",
    "    tick_marks = np.arange(len(classes))\n",
    "    plt.xticks(tick_marks, classes, rotation=45)\n",
    "    plt.yticks(tick_marks, classes)\n",
    "    plt.tight_layout()\n",
    "    plt.ylabel('True label')\n",
    "    plt.xlabel('Predicted label')\n",
    "\n",
    "plot_confusion_matrix(cm)"
   ]
  },
  {
   "cell_type": "code",
   "execution_count": 59,
   "metadata": {
    "id": "hpx7edXcqtUB"
   },
   "outputs": [
    {
     "ename": "NameError",
     "evalue": "name 'y_true' is not defined",
     "output_type": "error",
     "traceback": [
      "\u001b[0;31m---------------------------------------------------------------------------\u001b[0m",
      "\u001b[0;31mNameError\u001b[0m                                 Traceback (most recent call last)",
      "Cell \u001b[0;32mIn[59], line 2\u001b[0m\n\u001b[1;32m      1\u001b[0m \u001b[38;5;28;01mfrom\u001b[39;00m \u001b[38;5;21;01msklearn\u001b[39;00m\u001b[38;5;21;01m.\u001b[39;00m\u001b[38;5;21;01mmetrics\u001b[39;00m \u001b[38;5;28;01mimport\u001b[39;00m classification_report\n\u001b[0;32m----> 2\u001b[0m \u001b[38;5;28mprint\u001b[39m(classification_report(\u001b[43my_true\u001b[49m, y_pred, target_names\u001b[38;5;241m=\u001b[39mclasses))\n",
      "\u001b[0;31mNameError\u001b[0m: name 'y_true' is not defined"
     ]
    }
   ],
   "source": [
    "from sklearn.metrics import classification_report\n",
    "print(classification_report(y_true, y_pred, target_names=classes))"
   ]
  },
  {
   "cell_type": "code",
   "execution_count": null,
   "metadata": {
    "id": "hp6WRpYQqtyi"
   },
   "outputs": [],
   "source": [
    "# Output next batch from dataloader\n",
    "dataiter = iter(test_dataloader)\n",
    "image_batch, labels_batch = next(dataiter)\n",
    "\n",
    "# Pass batch through model\n",
    "model.eval()\n",
    "image_batch = image_batch.to(device)\n",
    "pred_logit = model(image_batch)\n",
    "\n",
    "\n",
    "# Use matplotlib to plot a sample of images\n",
    "import matplotlib.pyplot as plt\n",
    "i=0\n",
    "n_plots = 12 # number of plots\n",
    "f, axarr = plt.subplots(1,n_plots,figsize=(20,10))\n",
    "\n",
    "\n",
    "for image in image_batch[0:n_plots,:,:,:]:\n",
    "  disp_image =  torch.permute(image.to('cpu'),(2,1,0)).numpy() # return image to cpu for display and permute to channels last\n",
    "  mean = np.array([0.485, 0.456, 0.406])\n",
    "  std = np.array([0.229, 0.224, 0.225])\n",
    "  disp_image = std * disp_image + mean\n",
    "  disp_image = np.clip(disp_image, 0, 1)\n",
    "  axarr[i].imshow(disp_image[:,:,:])\n",
    "  axarr[i].axis(\"off\")\n",
    "  predicted, actual = classes[pred_logit[i,:].argmax(0)], classes[labels_batch[i]]\n",
    "  color = 'black' if predicted == actual else 'red'\n",
    "  axarr[i].set_title(predicted,fontsize='small', color=color)\n",
    "  i = i+1"
   ]
  },
  {
   "cell_type": "code",
   "execution_count": null,
   "metadata": {},
   "outputs": [],
   "source": []
  },
  {
   "cell_type": "code",
   "execution_count": null,
   "metadata": {},
   "outputs": [],
   "source": []
  },
  {
   "cell_type": "code",
   "execution_count": null,
   "metadata": {},
   "outputs": [],
   "source": []
  }
 ],
 "metadata": {
  "colab": {
   "authorship_tag": "ABX9TyNbwV8CwMUZT6F1ONPM/DpC",
   "provenance": [
    {
     "file_id": "1SsHG7cuQmMMKqhysgmufIyqPrLFVy3J5",
     "timestamp": 1740500380135
    },
    {
     "file_id": "1IkkVh1O7xxtoFO18nTDpCW3l99VPOAwF",
     "timestamp": 1740499620288
    }
   ]
  },
  "kernelspec": {
   "display_name": "Python 3 (ipykernel)",
   "language": "python",
   "name": "python3"
  },
  "language_info": {
   "codemirror_mode": {
    "name": "ipython",
    "version": 3
   },
   "file_extension": ".py",
   "mimetype": "text/x-python",
   "name": "python",
   "nbconvert_exporter": "python",
   "pygments_lexer": "ipython3",
   "version": "3.10.12"
  }
 },
 "nbformat": 4,
 "nbformat_minor": 4
}
