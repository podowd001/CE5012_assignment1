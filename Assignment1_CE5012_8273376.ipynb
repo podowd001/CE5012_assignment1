{
 "cells": [
  {
   "cell_type": "markdown",
   "metadata": {
    "id": "D0od727REF6w"
   },
   "source": [
    "#Assignment 1: Vision Transformer\n",
    "In this lab you will build a vision transformer and train it on the CIFAR-10 dataset.\n",
    "![](https://github.com/tonyscan6003/etivities/blob/main/vit.JPG?raw=true)\n",
    "\n",
    "A key problem with using transformers with images is long sequence lengths when each pixel is used as an individual token. As the computational complexity of transformers scales quadratically with sequence length, approaches to reduce the computation are required. The vision transformer solves this problem by dividing the image into a shorter sequence of patches that are converted to tokens with a dimension D.\n",
    "\n",
    "Unlike convolution which inherently retains spatial information, the transformer self attention mechanism will compute the same result regardless of the order of the tokens. For this reason a sinusoidal positional encoding is included to retain positional information.  \n",
    "\n",
    "The vision transformer can be trained on CIFAR-10 using supervised learning. A final classification layer is applied to the learned classification token. (We note that due to self attention, this token obtains information from the input patches and can therefore determine the class)\n",
    "\n",
    "Note on this assignment:\n",
    "* The goal of the assignment is to successfully code the transformer (not to achieve high the highest possible performance or optimise the training).  \n",
    "* The Projection of the patches and positional encoding blocks is given in the notebook.\n",
    "* It is recommended to take a hierachical approach to building the vision transformer.\n",
    " * Start with the lowest level self-attention block, then add multi-head attention, the transformer encoder and finally a toplevel vision transformer block.\n",
    " * Each block can be structured as a sub-class of nn.module. Instances of these classes can then be called into classes for higher level blocks (e.g. multi-head attention will create instances of the attention block)  \n",
    " * Take particular care with the dimensions of the token tensors. The pytorch layers such as nn.linear operate on the last dimension of the tensor. Therefore we want the features of the token (\"D\" dimension) to the be the last dimension.\n",
    " * You may want to initally use a small dimensionality D in your model when de-bugging as it will run more quickly.\n"
   ]
  },
  {
   "cell_type": "code",
   "execution_count": 68,
   "metadata": {
    "id": "DEt0NrOfEBpA"
   },
   "outputs": [],
   "source": [
    "import torch\n",
    "from torch import nn\n",
    "from torch.utils.data import DataLoader\n",
    "from torchvision import datasets, models\n",
    "from torchvision.transforms import ToTensor, v2, Pad\n",
    "from torchvision.transforms import ToTensor\n",
    "import matplotlib.pyplot as plt\n",
    "from torch.utils.tensorboard import SummaryWriter\n",
    "import datetime\n",
    "import numpy as np"
   ]
  },
  {
   "cell_type": "code",
   "execution_count": 69,
   "metadata": {
    "colab": {
     "base_uri": "https://localhost:8080/"
    },
    "executionInfo": {
     "elapsed": 1677,
     "status": "ok",
     "timestamp": 1739982514325,
     "user": {
      "displayName": "Tony Scanlan",
      "userId": "11380187689366571663"
     },
     "user_tz": 0
    },
    "id": "9Dx_DK31F4gR",
    "outputId": "d976aecf-fbd2-4279-a055-e11039cefb41"
   },
   "outputs": [
    {
     "name": "stdout",
     "output_type": "stream",
     "text": [
      "Looking in indexes: https://pypi.org/simple, https://pypi.ngc.nvidia.com\n",
      "Requirement already satisfied: torchinfo in /usr/local/lib/python3.10/dist-packages (1.8.0)\n",
      "\u001b[33mWARNING: Running pip as the 'root' user can result in broken permissions and conflicting behaviour with the system package manager, possibly rendering your system unusable.It is recommended to use a virtual environment instead: https://pip.pypa.io/warnings/venv. Use the --root-user-action option if you know what you are doing and want to suppress this warning.\u001b[0m\u001b[33m\n",
      "\u001b[0m\n",
      "\u001b[1m[\u001b[0m\u001b[34;49mnotice\u001b[0m\u001b[1;39;49m]\u001b[0m\u001b[39;49m A new release of pip is available: \u001b[0m\u001b[31;49m24.2\u001b[0m\u001b[39;49m -> \u001b[0m\u001b[32;49m25.0.1\u001b[0m\n",
      "\u001b[1m[\u001b[0m\u001b[34;49mnotice\u001b[0m\u001b[1;39;49m]\u001b[0m\u001b[39;49m To update, run: \u001b[0m\u001b[32;49mpython -m pip install --upgrade pip\u001b[0m\n"
     ]
    }
   ],
   "source": [
    "!pip install torchinfo"
   ]
  },
  {
   "cell_type": "code",
   "execution_count": 70,
   "metadata": {
    "id": "j8BOvrQ5_dE2"
   },
   "outputs": [
    {
     "name": "stdout",
     "output_type": "stream",
     "text": [
      "NVIDIA RTX 4000 Ada Generation\n",
      "__CUDNN VERSION: 90400\n",
      "__Number CUDA Devices: 1\n",
      "__CUDA Device Name: NVIDIA RTX 4000 Ada Generation\n",
      "__CUDA Device Total Memory [GB]: 21.469069312\n",
      "Memory Usage:\n",
      "Allocated: 0.0 GB\n",
      "Cached:    0.0 GB\n"
     ]
    }
   ],
   "source": [
    "import torch\n",
    "use_cuda = torch.cuda.is_available()\n",
    "\n",
    "if not use_cuda:\n",
    "\texit()\n",
    "\n",
    "print(torch.cuda.get_device_name(0))\n",
    "print('__CUDNN VERSION:', torch.backends.cudnn.version())\n",
    "print('__Number CUDA Devices:', torch.cuda.device_count())\n",
    "print('__CUDA Device Name:',torch.cuda.get_device_name(0))\n",
    "print('__CUDA Device Total Memory [GB]:',torch.cuda.get_device_properties(0).total_memory/1e9)\n",
    "print('Memory Usage:')\n",
    "print('Allocated:', round(torch.cuda.memory_allocated(0)/1024**3,1), 'GB')\n",
    "print('Cached:   ', round(torch.cuda.memory_reserved(0)/1024**3,1), 'GB')"
   ]
  },
  {
   "cell_type": "markdown",
   "metadata": {
    "id": "S65n7FefE5T7"
   },
   "source": [
    "## Import Dataset\n",
    "The [torchvision](https://pytorch.org/vision/stable/index.html) package (imported above) makes available several common image classification, object detection, semantic segmentation datasets, aswell as other [datasets](https://pytorch.org/vision/stable/datasets.html) for common computer vision applications.  \n",
    "\n",
    "You can adjust these transforms as part of your regularisation strategy for the network. (Note that only the train_transform should be modified, we don't want to apply augmentation to the test set)"
   ]
  },
  {
   "cell_type": "code",
   "execution_count": 71,
   "metadata": {
    "id": "kj3lHLmyl-AR"
   },
   "outputs": [],
   "source": [
    "'''\n",
    "train_transforms = v2.Compose([\n",
    "    v2.ToDtype(torch.float32, scale=True),\n",
    "    ToTensor(),\n",
    "    v2.Normalize([0.485, 0.456, 0.406], [0.229, 0.224, 0.225]),\n",
    "])\n",
    "\n",
    "\n",
    "test_transforms = v2.Compose([\n",
    "    v2.ToDtype(torch.float32, scale=True),\n",
    "    ToTensor(),\n",
    "    v2.Normalize([0.485, 0.456, 0.406], [0.229, 0.224, 0.225]),\n",
    "])\n",
    "'''\n",
    "\n",
    "train_transforms = v2.Compose([\n",
    "    v2.RandomResizedCrop(size=32,scale=(0.8,1.0)),\n",
    "    v2.RandomHorizontalFlip(p=0.5),\n",
    "    v2.ToDtype(torch.float32, scale=True),\n",
    "    ToTensor(),\n",
    "    v2.Normalize([0.485, 0.456, 0.406], [0.229, 0.224, 0.225]),\n",
    "])\n",
    "\n",
    "\n",
    "test_transforms = v2.Compose([\n",
    "    v2.ToDtype(torch.float32, scale=True),\n",
    "    ToTensor(),\n",
    "    v2.Normalize([0.485, 0.456, 0.406], [0.229, 0.224, 0.225]),\n",
    "])\n",
    "\n",
    "#v2.RandomRotation(degrees=(-45, 45)),"
   ]
  },
  {
   "cell_type": "code",
   "execution_count": 72,
   "metadata": {
    "id": "CGcCuvXjE7TI"
   },
   "outputs": [
    {
     "name": "stdout",
     "output_type": "stream",
     "text": [
      "Files already downloaded and verified\n",
      "Files already downloaded and verified\n"
     ]
    }
   ],
   "source": [
    "# Download training data from open datasets.\n",
    "training_data = datasets.CIFAR10(\n",
    "    root=\"data\",\n",
    "    train=True,\n",
    "    download=True,\n",
    "    transform=train_transforms,\n",
    ")\n",
    "\n",
    "# Download test data from open datasets.\n",
    "test_data = datasets.CIFAR10(\n",
    "    root=\"data\",\n",
    "    train=False,\n",
    "    download=True,\n",
    "    transform=test_transforms,\n",
    ")"
   ]
  },
  {
   "cell_type": "markdown",
   "metadata": {
    "id": "LH_kTIFYIoTA"
   },
   "source": [
    "The `Dataset` is passed as an argument to `DataLoader`. This wraps an\n",
    "iterable over the dataset, and supports automatic batching, sampling,\n",
    "shuffling and multiprocess data loading."
   ]
  },
  {
   "cell_type": "code",
   "execution_count": 73,
   "metadata": {
    "colab": {
     "base_uri": "https://localhost:8080/"
    },
    "executionInfo": {
     "elapsed": 77,
     "status": "ok",
     "timestamp": 1739982515489,
     "user": {
      "displayName": "Tony Scanlan",
      "userId": "11380187689366571663"
     },
     "user_tz": 0
    },
    "id": "bX-snmo0Iv3v",
    "outputId": "4b4fecab-8555-4178-8287-742c7c9d48fa"
   },
   "outputs": [
    {
     "name": "stdout",
     "output_type": "stream",
     "text": [
      "Shape of X [N, C, H, W]: torch.Size([128, 3, 32, 32])\n",
      "Shape of y: torch.Size([128]) torch.int64\n"
     ]
    }
   ],
   "source": [
    "batch_size = 128\n",
    "\n",
    "# Create data loaders.\n",
    "train_dataloader = DataLoader(training_data, batch_size=batch_size, shuffle=True)\n",
    "test_dataloader = DataLoader(test_data, batch_size=batch_size)\n",
    "\n",
    "for X, y in test_dataloader:\n",
    "    print(f\"Shape of X [N, C, H, W]: {X.shape}\")\n",
    "    print(f\"Shape of y: {y.shape} {y.dtype}\")\n",
    "    break"
   ]
  },
  {
   "cell_type": "code",
   "execution_count": 74,
   "metadata": {
    "id": "K5iqVbNpQAOH"
   },
   "outputs": [
    {
     "name": "stdout",
     "output_type": "stream",
     "text": [
      "Test Samples  10000\n",
      "Train Samples  50000\n",
      "Test Batches  79\n",
      "Train Batches  391\n"
     ]
    }
   ],
   "source": [
    "print('Test Samples ',len(test_dataloader.dataset))\n",
    "print('Train Samples ',len(train_dataloader.dataset))\n",
    "print('Test Batches ',len(test_dataloader))\n",
    "print('Train Batches ',len(train_dataloader))"
   ]
  },
  {
   "cell_type": "code",
   "execution_count": 75,
   "metadata": {
    "id": "L8VjVE0CmZYw"
   },
   "outputs": [],
   "source": [
    "classes = [\n",
    "    \"airplane\",\n",
    "    \"automobile\",\n",
    "    \"bird\",\n",
    "    \"cat\",\n",
    "    \"deer\",\n",
    "    \"dog\",\n",
    "    \"frog\",\n",
    "    \"horse\",\n",
    "    \"ship\",\n",
    "    \"truck\",\n",
    "]\n",
    "\n",
    "def plot_examples(image_batch,labels_batch,pred_labels_batch):\n",
    "  n_plots = 12 # number of plots\n",
    "  f, axarr = plt.subplots(1,n_plots,figsize=(20,10))\n",
    "\n",
    "  for i, image in enumerate(image_batch[0:n_plots,:,:,:]):\n",
    "    # return image to cpu for display and permute to channels last\n",
    "    disp_image =  torch.permute(image.to('cpu'),(2,1,0)).numpy()\n",
    "\n",
    "    # Correct mean/std for display\n",
    "    mean = np.array([0.485, 0.456, 0.406])\n",
    "    std = np.array([0.229, 0.224, 0.225])\n",
    "    disp_image = std * disp_image + mean\n",
    "    disp_image = np.clip(disp_image, 0, 1)\n",
    "\n",
    "    #\n",
    "    axarr[i].imshow(disp_image[:,:,:])\n",
    "    axarr[i].axis(\"off\")\n",
    "    #predicted, actual = classes[pred_labels_batch[0,i]], classes[labels_batch[i]]\n",
    "    predicted, actual = classes[pred_labels_batch.to('cpu')[i]], classes[labels_batch.to('cpu')[i]]\n",
    "    color = 'black' if predicted == actual else 'red'\n",
    "    axarr[i].set_title(predicted,fontsize='small', color=color)\n",
    "\n",
    "\n"
   ]
  },
  {
   "cell_type": "code",
   "execution_count": 76,
   "metadata": {
    "colab": {
     "base_uri": "https://localhost:8080/",
     "height": 104
    },
    "executionInfo": {
     "elapsed": 577,
     "status": "ok",
     "timestamp": 1739982516094,
     "user": {
      "displayName": "Tony Scanlan",
      "userId": "11380187689366571663"
     },
     "user_tz": 0
    },
    "id": "C558MSNYQxd8",
    "outputId": "f1e323af-2b5e-4fb0-bbd3-9f072702a6d3"
   },
   "outputs": [
    {
     "data": {
      "image/png": "[encoded data removed]",
      "text/plain": [
       "<Figure size 2000x1000 with 12 Axes>"
      ]
     },
     "metadata": {},
     "output_type": "display_data"
    }
   ],
   "source": [
    "# Output next batch from dataloader\n",
    "dataiter = iter(train_dataloader)\n",
    "image_batch, labels_batch = next(dataiter)\n",
    "\n",
    "# Call plot with pred_label_batch = labels_batch before training\n",
    "plot_examples(image_batch,labels_batch,labels_batch)"
   ]
  },
  {
   "cell_type": "markdown",
   "metadata": {
    "id": "TIIjqCm9IbxS"
   },
   "source": [
    "# Define Transformer Model\n",
    "\n",
    "It is necssary to define a series of blocks to train the transformer model\n",
    "\n",
    "\n",
    "*   1. Patch Embedding (included)\n",
    "*   2. Positional Encoding (included)\n",
    "*   3. Attention block\n",
    "*   4. Multi head attention\n",
    "*   5. Transformer Encoder\n",
    "*   6. Vision Transformer (top level)\n",
    "\n"
   ]
  },
  {
   "cell_type": "markdown",
   "metadata": {
    "id": "R5Xlh_-xf9QJ"
   },
   "source": [
    "1. Patch Embedding:\n",
    "\n",
    "This block could be implemented by first dividing the the image into patches (with an image processing function) and then applying the same linear layer to each patch. However this block is most efficiently implemented as a convolution followed by permute and flatten operations which achieves the same result.\n",
    "* The convolution applies the same set of weights to a patch of the image. converting the patch to an embedding or token (after permute and flatten operations) . The number of kernels used in the convolution sets the dimensionality of the token.\n",
    "* The convolution uses a large patch size and a stride equal to the patch size. The number of patches sets the number of tokens at the input to the vision transformer.\n",
    "* The number of patches to be used can be determined from the guide to convolutional arithmetic (relationship no 5. No zero padding,non-unit strides) o = (i-k)/s +1 the ouptut size (for one dimension). We typically try to choose the patch size so that an integer number of patches are obtained. For example if i=32, and if we choose a patch size of k=8, and using the same stride as the patch size s=8 (no overlapping) then o=(32-8)/8+1=24/8+1=3+1=4 so there will be 4 patches along each dimension of the input image (so 16 patches in total)."
   ]
  },
  {
   "cell_type": "code",
   "execution_count": 150,
   "metadata": {
    "id": "Ueg_O_k1_DcF"
   },
   "outputs": [],
   "source": [
    "\n",
    "class Patch_embedding(nn.Module):\n",
    "    def __init__(self,in_channels,d_transformer,patch_size):\n",
    "        super().__init__()\n",
    "        self.in_channels = in_channels       # number of channels (C) in input\n",
    "        self.d_transformer = d_transformer   # number of dimensions (D) in token (same as number of kernels in convolution)\n",
    "        self.patch_size = patch_size         # Size of patch in pixels\n",
    "\n",
    "        self.conv = nn.Conv2d(self.in_channels,self.d_transformer,self.patch_size,stride=self.patch_size,padding='valid')\n",
    "\n",
    "    def forward(self, x):\n",
    "\n",
    "        int_1 = self.conv(x)  # Input B x C x n x m converted to B x D x m'x n'\n",
    "                              # where m' and n' is spatial size after convolution\n",
    "\n",
    "        int_2 = torch.permute(int_1,(0,2,3,1))  # Use permute to make channels last B x m'x n' x D\n",
    "        emb = torch.flatten(int_2,start_dim=1,end_dim=2)  # Flattent to B x N x D where N is sequence length (equal to no patches)\n",
    "        return emb\n",
    "\n",
    "\n",
    "\n"
   ]
  },
  {
   "cell_type": "markdown",
   "metadata": {
    "id": "Baqq9ERdrMmh"
   },
   "source": [
    "2. Positional Encoding\n",
    "\n",
    "* A good explanation for positional encoding and the use of sinusoidal functions to achieve this is detailed in the [hugginface blog](https://huggingface.co/blog/designing-positional-encoding). The matrix of positional values `pi_matrix` is created using torch cos and sin functions.\n",
    "* We note that this matrix is assigned as [register_buffer](https://discuss.pytorch.org/t/what-is-the-difference-between-register-buffer-and-register-parameter-of-nn-module/32723). This allows us to use this matrix of values in the model (on the GPU), but they are not stored as learned parameters.\n",
    "\n",
    "* Finally we note that this block creates the classification token. This token is defined as learned parameter using [nn.parameter](https://pytorch.org/docs/stable/generated/torch.nn.parameter.Parameter.html). The classification token will increase the number of tokens by 1 over the number of patches. This token is passed through the self-attention blocks and receives information from other patches. It can be used to predict classes at the output."
   ]
  },
  {
   "cell_type": "code",
   "execution_count": 151,
   "metadata": {
    "id": "IAAuVGVV8-x6"
   },
   "outputs": [],
   "source": [
    "\n",
    "class Positional_encoding(nn.Module):\n",
    "    def __init__(self,d_transformer,n_patches):\n",
    "        super().__init__()\n",
    "        self.D = d_transformer   # number of dimensions (D) in token\n",
    "        self.n_patches = n_patches   # number of patches in input\n",
    "        self.N = self.n_patches+1     # number of tokens (N) in sequence including CLS token\n",
    "\n",
    "        self.class_token = torch.nn.Parameter(torch.randn(1, 1, self.D))   # Learned embedding token\n",
    "\n",
    "        # Create matrix PI of values that can be multiplied against the input token x in forward method\n",
    "        # Matrix must be of size B x N x D\n",
    "        pi_matrix = torch.zeros(self.N,self.D)\n",
    "        for pos in range(self.N):\n",
    "            for i in range(self.D):\n",
    "              if i % 2 == 0:\n",
    "                pi_matrix[pos,i] = torch.cos(torch.tensor(pos/(10000**(2*i/self.D))))\n",
    "              else:\n",
    "                pi_matrix[pos,i] = torch.sin(torch.tensor(pos/(10000**(2*i/self.D))))\n",
    "\n",
    "        self.register_buffer('pi_matrix', pi_matrix, persistent = False)\n",
    "\n",
    "\n",
    "    def forward(self, x):\n",
    "        # Expand the cls tensor across the batch dimension and contactenate with input\n",
    "        exp_cls = self.class_token.expand(x.size()[0], -1, -1)\n",
    "        x = torch.cat((exp_cls,x),dim=1)\n",
    "        # Add the positional encoding to the input tokens\n",
    "        mult_pe = x+self.pi_matrix\n",
    "\n",
    "        return mult_pe\n",
    "\n"
   ]
  },
  {
   "cell_type": "code",
   "execution_count": 152,
   "metadata": {},
   "outputs": [
    {
     "name": "stdout",
     "output_type": "stream",
     "text": [
      "torch.Size([128, 16, 16])\n"
     ]
    }
   ],
   "source": [
    "numChannels = 3\n",
    "patchSize = 8\n",
    "numDims = 16\n",
    "\n",
    "PatchEmbedding = Patch_embedding(numChannels,numDims,patchSize)\n",
    "emb = PatchEmbedding(image_batch)\n",
    "print(emb.shape)"
   ]
  },
  {
   "cell_type": "code",
   "execution_count": 153,
   "metadata": {},
   "outputs": [
    {
     "name": "stdout",
     "output_type": "stream",
     "text": [
      "torch.Size([128, 17, 16])\n"
     ]
    }
   ],
   "source": [
    "PositionalEncoding = Positional_encoding(16,16)\n",
    "pe = PositionalEncoding(emb)\n",
    "print(pe.shape)"
   ]
  },
  {
   "cell_type": "markdown",
   "metadata": {
    "id": "pC53f0qT3i-V"
   },
   "source": [
    "3. Attention Head"
   ]
  },
  {
   "cell_type": "code",
   "execution_count": 170,
   "metadata": {
    "id": "yK0JfKDQu_Pe"
   },
   "outputs": [],
   "source": [
    "# Class to define attention head\n",
    "# step 1. Operates on a sequence of tokens of size K=8 x1 to xn where n = 17 \n",
    "# step 2. Learned weights for Q,K,V\n",
    "# step 3. dot product ok K.T with Q\n",
    "#step 4. Normalise attention\n",
    "# step 5 Scalar multiply of V with attention  \n",
    "\n",
    "class attentionHead(nn.Module):\n",
    "    def __init__(self,tokenLength):\n",
    "        super().__init__()\n",
    "\n",
    "        self.tokenLength = tokenLength\n",
    "        self.Q = nn.Linear(tokenLength,tokenLength)\n",
    "        self.K = nn.Linear(tokenLength,tokenLength)\n",
    "        self.V = nn.Linear(tokenLength,tokenLength)\n",
    "\n",
    "    def forward(self,pe):\n",
    "\n",
    "        x = PositionalEncoding(pe)\n",
    "#        print(\"xshape \",x.shape,self.tokenLength)\n",
    "        q = self.Q(x)\n",
    "#        print(\"q is \",q)\n",
    "        k = self.K(x)\n",
    "        v = self.V(x)\n",
    "\n",
    "        kTranspose = k.T\n",
    "#        print(\"shapes \", kTranspose.shape,q.shape)\n",
    "# dot product of K.T with q\n",
    "#        kq_scaled = torch.mm(kTranspose,q) / np.sqrt(self.tokenLength)\n",
    "#        kq_scaled = torch.mm(q,kTranspose) / np.sqrt(self.tokenLength)\n",
    "        kq_scaled = torch.bmm(q,k.transpose(1,2))\n",
    "\n",
    "        \n",
    "        normedAttn = nn.functional.softmax(kq_scaled,dim=1)\n",
    "\n",
    "#        print(\"kq is \",kq_scaled)\n",
    "\n",
    "#        print(\"normed attn \",normedAttn)\n",
    "\n",
    "        SA_X = torch.bmm(normedAttn,v)\n",
    "\n",
    "        print(\"SA[x] \", SA_X.shape)\n",
    "\n",
    "        \n",
    "\n",
    "        return SA_X\n",
    "\n",
    "\n",
    "            \n",
    "\n"
   ]
  },
  {
   "cell_type": "code",
   "execution_count": 171,
   "metadata": {},
   "outputs": [
    {
     "name": "stdout",
     "output_type": "stream",
     "text": [
      "torch.Size([128, 17, 16])\n",
      "8\n"
     ]
    }
   ],
   "source": [
    "print(pe.shape)\n",
    "\n",
    "splitPE = torch.tensor_split(pe,8,dim=2)\n",
    "print(len(splitPE))"
   ]
  },
  {
   "cell_type": "code",
   "execution_count": 172,
   "metadata": {},
   "outputs": [
    {
     "name": "stdout",
     "output_type": "stream",
     "text": [
      "SA[x]  torch.Size([128, 17, 16])\n"
     ]
    },
    {
     "data": {
      "text/plain": [
       "tensor([[[ 3.5298e-01,  3.1287e-02, -2.9368e-01,  ...,  1.0524e+00,\n",
       "          -9.6477e-01,  1.0303e+00],\n",
       "         [ 3.3463e-01,  1.0221e-01, -4.0796e-01,  ...,  1.1819e+00,\n",
       "          -1.0138e+00,  9.7196e-01],\n",
       "         [ 5.4403e-01,  1.8212e-01, -7.4211e-01,  ...,  2.1110e+00,\n",
       "          -1.8110e+00,  1.7014e+00],\n",
       "         ...,\n",
       "         [ 9.5212e-02,  2.1663e-02, -7.1893e-02,  ...,  2.1991e-01,\n",
       "          -1.8893e-01,  2.0574e-01],\n",
       "         [ 2.5848e-02,  8.7391e-03, -1.9558e-02,  ...,  6.3937e-02,\n",
       "          -5.7810e-02,  6.1527e-02],\n",
       "         [ 4.8192e-02,  1.0841e-02, -3.4553e-02,  ...,  1.1055e-01,\n",
       "          -9.6683e-02,  1.0590e-01]],\n",
       "\n",
       "        [[-1.9612e-01,  6.1550e-01,  3.0707e-01,  ...,  6.6007e-01,\n",
       "          -1.3243e+00,  8.9839e-01],\n",
       "         [-3.1109e-02,  5.0294e-02,  4.8722e-02,  ...,  1.6479e-02,\n",
       "          -6.1674e-02,  3.5594e-02],\n",
       "         [-2.6807e-02,  4.2444e-02,  4.0882e-02,  ...,  1.2559e-02,\n",
       "          -4.6928e-02,  2.5684e-02],\n",
       "         ...,\n",
       "         [ 6.2805e-02,  2.4025e-01,  4.1657e-02,  ...,  2.5025e-01,\n",
       "          -3.8946e-01,  2.7327e-01],\n",
       "         [ 2.4931e-02,  1.1267e-01,  3.3198e-02,  ...,  1.0590e-01,\n",
       "          -1.8445e-01,  1.3420e-01],\n",
       "         [-2.8807e-03,  1.0516e-01,  4.7019e-02,  ...,  7.5008e-02,\n",
       "          -1.4171e-01,  9.5384e-02]],\n",
       "\n",
       "        [[ 2.2852e-01,  9.4900e-01, -5.6791e-01,  ...,  3.1724e+00,\n",
       "          -3.6173e+00,  2.2806e+00],\n",
       "         [ 7.0086e-02,  1.3848e-01, -2.4217e-02,  ...,  4.3752e-01,\n",
       "          -4.2632e-01,  2.5639e-01],\n",
       "         [ 6.7043e-02,  7.4212e-02, -4.0768e-02,  ...,  2.6442e-01,\n",
       "          -2.5244e-01,  1.8582e-01],\n",
       "         ...,\n",
       "         [ 6.1302e-02,  1.6110e-01,  7.0970e-03,  ...,  2.6268e-01,\n",
       "          -3.8092e-01,  2.5288e-01],\n",
       "         [ 2.2547e-01,  3.1467e-01, -9.5992e-02,  ...,  7.0586e-01,\n",
       "          -7.6052e-01,  5.1742e-01],\n",
       "         [ 2.8025e-01,  2.5862e-01, -1.7571e-01,  ...,  7.1955e-01,\n",
       "          -6.6816e-01,  4.5493e-01]],\n",
       "\n",
       "        ...,\n",
       "\n",
       "        [[ 1.4728e-01,  1.4691e-01,  1.1032e-01,  ...,  8.8990e-01,\n",
       "          -1.0677e+00,  1.0450e+00],\n",
       "         [ 1.0431e-01,  4.3882e-02, -9.6765e-03,  ...,  2.7171e-01,\n",
       "          -3.0134e-01,  2.7377e-01],\n",
       "         [ 5.5556e-01,  6.8735e-01, -3.8146e-01,  ...,  2.0694e+00,\n",
       "          -2.2593e+00,  1.7285e+00],\n",
       "         ...,\n",
       "         [ 1.9539e-02,  2.3738e-02, -4.5425e-03,  ...,  5.4909e-02,\n",
       "          -6.2295e-02,  5.5045e-02],\n",
       "         [ 2.5561e-02,  1.6038e-02, -2.7414e-03,  ...,  6.1052e-02,\n",
       "          -6.6611e-02,  6.2106e-02],\n",
       "         [ 4.0481e-02,  2.6064e-02, -5.1523e-03,  ...,  9.3380e-02,\n",
       "          -1.0308e-01,  9.6898e-02]],\n",
       "\n",
       "        [[ 2.7769e-01,  3.3615e-01, -1.7131e-01,  ...,  1.1645e+00,\n",
       "          -1.2649e+00,  9.6696e-01],\n",
       "         [ 2.5331e-01,  4.7577e-01, -3.4537e-01,  ...,  1.4204e+00,\n",
       "          -1.4940e+00,  1.0148e+00],\n",
       "         [ 1.2896e-01,  3.0405e-01, -1.5747e-01,  ...,  8.0262e-01,\n",
       "          -8.6173e-01,  5.9118e-01],\n",
       "         ...,\n",
       "         [ 3.7322e-02,  5.3917e-02, -1.2610e-02,  ...,  1.1739e-01,\n",
       "          -1.2931e-01,  1.0280e-01],\n",
       "         [ 4.5853e-02,  6.9503e-02, -1.4650e-02,  ...,  1.4659e-01,\n",
       "          -1.6286e-01,  1.2878e-01],\n",
       "         [ 4.5377e-02,  5.7102e-02, -1.5055e-02,  ...,  1.3006e-01,\n",
       "          -1.4178e-01,  1.1448e-01]],\n",
       "\n",
       "        [[ 3.4329e-01, -9.6465e-02, -3.4043e-01,  ...,  8.9140e-01,\n",
       "          -1.0837e+00,  8.6226e-01],\n",
       "         [ 1.8147e-01, -5.6395e-02, -2.0708e-01,  ...,  4.9404e-01,\n",
       "          -5.4593e-01,  4.0461e-01],\n",
       "         [ 1.2782e-01, -5.1602e-02, -1.4134e-01,  ...,  3.5012e-01,\n",
       "          -3.8335e-01,  2.8330e-01],\n",
       "         ...,\n",
       "         [ 1.0190e-01, -2.6816e-02, -8.6102e-02,  ...,  1.9574e-01,\n",
       "          -2.1396e-01,  1.6877e-01],\n",
       "         [ 1.1242e-01, -2.8820e-02, -9.0932e-02,  ...,  2.1396e-01,\n",
       "          -2.3422e-01,  1.8432e-01],\n",
       "         [ 1.6821e-01, -3.4768e-02, -1.3702e-01,  ...,  2.8912e-01,\n",
       "          -3.0663e-01,  2.4137e-01]]], grad_fn=<BmmBackward0>)"
      ]
     },
     "execution_count": 172,
     "metadata": {},
     "output_type": "execute_result"
    }
   ],
   "source": [
    "ah = attentionHead(16)\n",
    "ah(emb)"
   ]
  },
  {
   "cell_type": "markdown",
   "metadata": {
    "id": "lyk7--yK3lrY"
   },
   "source": [
    "4. Multi-Head Attention"
   ]
  },
  {
   "cell_type": "code",
   "execution_count": 163,
   "metadata": {
    "id": "PNSkeisPZGS-"
   },
   "outputs": [],
   "source": [
    "\n",
    " class MultiHeadattention(nn.Module):\n",
    "    def __init__(self,tokenLength,numHeads):\n",
    "        super().__init__()\n",
    "\n",
    "        self.D = tokenLength \n",
    "        self.H = numHeads\n",
    "        self.mha = nn.ModuleList([attentionHead(self.D) for i in range(self.H)])\n",
    "\n",
    "\n",
    "    def forward(self,x):\n",
    "\n",
    "        SA = torch.cat([attnhead(x) for attnhead in self.mha])\n",
    "\n",
    "        \n",
    "\n",
    "        return SA"
   ]
  },
  {
   "cell_type": "code",
   "execution_count": 173,
   "metadata": {},
   "outputs": [
    {
     "ename": "RuntimeError",
     "evalue": "mat1 and mat2 shapes cannot be multiplied (2176x16 and 8x8)",
     "output_type": "error",
     "traceback": [
      "\u001b[0;31m---------------------------------------------------------------------------\u001b[0m",
      "\u001b[0;31mRuntimeError\u001b[0m                              Traceback (most recent call last)",
      "Cell \u001b[0;32mIn[173], line 2\u001b[0m\n\u001b[1;32m      1\u001b[0m MHSA\u001b[38;5;241m=\u001b[39mMultiHeadattention(\u001b[38;5;241m8\u001b[39m,\u001b[38;5;241m2\u001b[39m)\n\u001b[0;32m----> 2\u001b[0m SA \u001b[38;5;241m=\u001b[39m \u001b[43mMHSA\u001b[49m\u001b[43m(\u001b[49m\u001b[43memb\u001b[49m\u001b[43m)\u001b[49m\n\u001b[1;32m      3\u001b[0m \u001b[38;5;28mprint\u001b[39m(SA\u001b[38;5;241m.\u001b[39mshape)\n",
      "File \u001b[0;32m/usr/local/lib/python3.10/dist-packages/torch/nn/modules/module.py:1736\u001b[0m, in \u001b[0;36mModule._wrapped_call_impl\u001b[0;34m(self, *args, **kwargs)\u001b[0m\n\u001b[1;32m   1734\u001b[0m     \u001b[38;5;28;01mreturn\u001b[39;00m \u001b[38;5;28mself\u001b[39m\u001b[38;5;241m.\u001b[39m_compiled_call_impl(\u001b[38;5;241m*\u001b[39margs, \u001b[38;5;241m*\u001b[39m\u001b[38;5;241m*\u001b[39mkwargs)  \u001b[38;5;66;03m# type: ignore[misc]\u001b[39;00m\n\u001b[1;32m   1735\u001b[0m \u001b[38;5;28;01melse\u001b[39;00m:\n\u001b[0;32m-> 1736\u001b[0m     \u001b[38;5;28;01mreturn\u001b[39;00m \u001b[38;5;28;43mself\u001b[39;49m\u001b[38;5;241;43m.\u001b[39;49m\u001b[43m_call_impl\u001b[49m\u001b[43m(\u001b[49m\u001b[38;5;241;43m*\u001b[39;49m\u001b[43margs\u001b[49m\u001b[43m,\u001b[49m\u001b[43m \u001b[49m\u001b[38;5;241;43m*\u001b[39;49m\u001b[38;5;241;43m*\u001b[39;49m\u001b[43mkwargs\u001b[49m\u001b[43m)\u001b[49m\n",
      "File \u001b[0;32m/usr/local/lib/python3.10/dist-packages/torch/nn/modules/module.py:1747\u001b[0m, in \u001b[0;36mModule._call_impl\u001b[0;34m(self, *args, **kwargs)\u001b[0m\n\u001b[1;32m   1742\u001b[0m \u001b[38;5;66;03m# If we don't have any hooks, we want to skip the rest of the logic in\u001b[39;00m\n\u001b[1;32m   1743\u001b[0m \u001b[38;5;66;03m# this function, and just call forward.\u001b[39;00m\n\u001b[1;32m   1744\u001b[0m \u001b[38;5;28;01mif\u001b[39;00m \u001b[38;5;129;01mnot\u001b[39;00m (\u001b[38;5;28mself\u001b[39m\u001b[38;5;241m.\u001b[39m_backward_hooks \u001b[38;5;129;01mor\u001b[39;00m \u001b[38;5;28mself\u001b[39m\u001b[38;5;241m.\u001b[39m_backward_pre_hooks \u001b[38;5;129;01mor\u001b[39;00m \u001b[38;5;28mself\u001b[39m\u001b[38;5;241m.\u001b[39m_forward_hooks \u001b[38;5;129;01mor\u001b[39;00m \u001b[38;5;28mself\u001b[39m\u001b[38;5;241m.\u001b[39m_forward_pre_hooks\n\u001b[1;32m   1745\u001b[0m         \u001b[38;5;129;01mor\u001b[39;00m _global_backward_pre_hooks \u001b[38;5;129;01mor\u001b[39;00m _global_backward_hooks\n\u001b[1;32m   1746\u001b[0m         \u001b[38;5;129;01mor\u001b[39;00m _global_forward_hooks \u001b[38;5;129;01mor\u001b[39;00m _global_forward_pre_hooks):\n\u001b[0;32m-> 1747\u001b[0m     \u001b[38;5;28;01mreturn\u001b[39;00m \u001b[43mforward_call\u001b[49m\u001b[43m(\u001b[49m\u001b[38;5;241;43m*\u001b[39;49m\u001b[43margs\u001b[49m\u001b[43m,\u001b[49m\u001b[43m \u001b[49m\u001b[38;5;241;43m*\u001b[39;49m\u001b[38;5;241;43m*\u001b[39;49m\u001b[43mkwargs\u001b[49m\u001b[43m)\u001b[49m\n\u001b[1;32m   1749\u001b[0m \u001b[38;5;28;01mtry\u001b[39;00m:\n\u001b[1;32m   1750\u001b[0m     result \u001b[38;5;241m=\u001b[39m \u001b[38;5;28;01mNone\u001b[39;00m\n",
      "Cell \u001b[0;32mIn[163], line 12\u001b[0m, in \u001b[0;36mMultiHeadattention.forward\u001b[0;34m(self, x)\u001b[0m\n\u001b[1;32m     10\u001b[0m \u001b[38;5;28;01mdef\u001b[39;00m \u001b[38;5;21mforward\u001b[39m(\u001b[38;5;28mself\u001b[39m,x):\n\u001b[0;32m---> 12\u001b[0m     SA \u001b[38;5;241m=\u001b[39m torch\u001b[38;5;241m.\u001b[39mcat([attnhead(x) \u001b[38;5;28;01mfor\u001b[39;00m attnhead \u001b[38;5;129;01min\u001b[39;00m \u001b[38;5;28mself\u001b[39m\u001b[38;5;241m.\u001b[39mmha])\n\u001b[1;32m     16\u001b[0m     \u001b[38;5;28;01mreturn\u001b[39;00m SA\n",
      "Cell \u001b[0;32mIn[163], line 12\u001b[0m, in \u001b[0;36m<listcomp>\u001b[0;34m(.0)\u001b[0m\n\u001b[1;32m     10\u001b[0m \u001b[38;5;28;01mdef\u001b[39;00m \u001b[38;5;21mforward\u001b[39m(\u001b[38;5;28mself\u001b[39m,x):\n\u001b[0;32m---> 12\u001b[0m     SA \u001b[38;5;241m=\u001b[39m torch\u001b[38;5;241m.\u001b[39mcat([\u001b[43mattnhead\u001b[49m\u001b[43m(\u001b[49m\u001b[43mx\u001b[49m\u001b[43m)\u001b[49m \u001b[38;5;28;01mfor\u001b[39;00m attnhead \u001b[38;5;129;01min\u001b[39;00m \u001b[38;5;28mself\u001b[39m\u001b[38;5;241m.\u001b[39mmha])\n\u001b[1;32m     16\u001b[0m     \u001b[38;5;28;01mreturn\u001b[39;00m SA\n",
      "File \u001b[0;32m/usr/local/lib/python3.10/dist-packages/torch/nn/modules/module.py:1736\u001b[0m, in \u001b[0;36mModule._wrapped_call_impl\u001b[0;34m(self, *args, **kwargs)\u001b[0m\n\u001b[1;32m   1734\u001b[0m     \u001b[38;5;28;01mreturn\u001b[39;00m \u001b[38;5;28mself\u001b[39m\u001b[38;5;241m.\u001b[39m_compiled_call_impl(\u001b[38;5;241m*\u001b[39margs, \u001b[38;5;241m*\u001b[39m\u001b[38;5;241m*\u001b[39mkwargs)  \u001b[38;5;66;03m# type: ignore[misc]\u001b[39;00m\n\u001b[1;32m   1735\u001b[0m \u001b[38;5;28;01melse\u001b[39;00m:\n\u001b[0;32m-> 1736\u001b[0m     \u001b[38;5;28;01mreturn\u001b[39;00m \u001b[38;5;28;43mself\u001b[39;49m\u001b[38;5;241;43m.\u001b[39;49m\u001b[43m_call_impl\u001b[49m\u001b[43m(\u001b[49m\u001b[38;5;241;43m*\u001b[39;49m\u001b[43margs\u001b[49m\u001b[43m,\u001b[49m\u001b[43m \u001b[49m\u001b[38;5;241;43m*\u001b[39;49m\u001b[38;5;241;43m*\u001b[39;49m\u001b[43mkwargs\u001b[49m\u001b[43m)\u001b[49m\n",
      "File \u001b[0;32m/usr/local/lib/python3.10/dist-packages/torch/nn/modules/module.py:1747\u001b[0m, in \u001b[0;36mModule._call_impl\u001b[0;34m(self, *args, **kwargs)\u001b[0m\n\u001b[1;32m   1742\u001b[0m \u001b[38;5;66;03m# If we don't have any hooks, we want to skip the rest of the logic in\u001b[39;00m\n\u001b[1;32m   1743\u001b[0m \u001b[38;5;66;03m# this function, and just call forward.\u001b[39;00m\n\u001b[1;32m   1744\u001b[0m \u001b[38;5;28;01mif\u001b[39;00m \u001b[38;5;129;01mnot\u001b[39;00m (\u001b[38;5;28mself\u001b[39m\u001b[38;5;241m.\u001b[39m_backward_hooks \u001b[38;5;129;01mor\u001b[39;00m \u001b[38;5;28mself\u001b[39m\u001b[38;5;241m.\u001b[39m_backward_pre_hooks \u001b[38;5;129;01mor\u001b[39;00m \u001b[38;5;28mself\u001b[39m\u001b[38;5;241m.\u001b[39m_forward_hooks \u001b[38;5;129;01mor\u001b[39;00m \u001b[38;5;28mself\u001b[39m\u001b[38;5;241m.\u001b[39m_forward_pre_hooks\n\u001b[1;32m   1745\u001b[0m         \u001b[38;5;129;01mor\u001b[39;00m _global_backward_pre_hooks \u001b[38;5;129;01mor\u001b[39;00m _global_backward_hooks\n\u001b[1;32m   1746\u001b[0m         \u001b[38;5;129;01mor\u001b[39;00m _global_forward_hooks \u001b[38;5;129;01mor\u001b[39;00m _global_forward_pre_hooks):\n\u001b[0;32m-> 1747\u001b[0m     \u001b[38;5;28;01mreturn\u001b[39;00m \u001b[43mforward_call\u001b[49m\u001b[43m(\u001b[49m\u001b[38;5;241;43m*\u001b[39;49m\u001b[43margs\u001b[49m\u001b[43m,\u001b[49m\u001b[43m \u001b[49m\u001b[38;5;241;43m*\u001b[39;49m\u001b[38;5;241;43m*\u001b[39;49m\u001b[43mkwargs\u001b[49m\u001b[43m)\u001b[49m\n\u001b[1;32m   1749\u001b[0m \u001b[38;5;28;01mtry\u001b[39;00m:\n\u001b[1;32m   1750\u001b[0m     result \u001b[38;5;241m=\u001b[39m \u001b[38;5;28;01mNone\u001b[39;00m\n",
      "Cell \u001b[0;32mIn[170], line 21\u001b[0m, in \u001b[0;36mattentionHead.forward\u001b[0;34m(self, pe)\u001b[0m\n\u001b[1;32m     19\u001b[0m         x \u001b[38;5;241m=\u001b[39m PositionalEncoding(pe)\n\u001b[1;32m     20\u001b[0m \u001b[38;5;66;03m#        print(\"xshape \",x.shape,self.tokenLength)\u001b[39;00m\n\u001b[0;32m---> 21\u001b[0m         q \u001b[38;5;241m=\u001b[39m \u001b[38;5;28;43mself\u001b[39;49m\u001b[38;5;241;43m.\u001b[39;49m\u001b[43mQ\u001b[49m\u001b[43m(\u001b[49m\u001b[43mx\u001b[49m\u001b[43m)\u001b[49m\n\u001b[1;32m     22\u001b[0m \u001b[38;5;66;03m#        print(\"q is \",q)\u001b[39;00m\n\u001b[1;32m     23\u001b[0m         k \u001b[38;5;241m=\u001b[39m \u001b[38;5;28mself\u001b[39m\u001b[38;5;241m.\u001b[39mK(x)\n",
      "File \u001b[0;32m/usr/local/lib/python3.10/dist-packages/torch/nn/modules/module.py:1736\u001b[0m, in \u001b[0;36mModule._wrapped_call_impl\u001b[0;34m(self, *args, **kwargs)\u001b[0m\n\u001b[1;32m   1734\u001b[0m     \u001b[38;5;28;01mreturn\u001b[39;00m \u001b[38;5;28mself\u001b[39m\u001b[38;5;241m.\u001b[39m_compiled_call_impl(\u001b[38;5;241m*\u001b[39margs, \u001b[38;5;241m*\u001b[39m\u001b[38;5;241m*\u001b[39mkwargs)  \u001b[38;5;66;03m# type: ignore[misc]\u001b[39;00m\n\u001b[1;32m   1735\u001b[0m \u001b[38;5;28;01melse\u001b[39;00m:\n\u001b[0;32m-> 1736\u001b[0m     \u001b[38;5;28;01mreturn\u001b[39;00m \u001b[38;5;28;43mself\u001b[39;49m\u001b[38;5;241;43m.\u001b[39;49m\u001b[43m_call_impl\u001b[49m\u001b[43m(\u001b[49m\u001b[38;5;241;43m*\u001b[39;49m\u001b[43margs\u001b[49m\u001b[43m,\u001b[49m\u001b[43m \u001b[49m\u001b[38;5;241;43m*\u001b[39;49m\u001b[38;5;241;43m*\u001b[39;49m\u001b[43mkwargs\u001b[49m\u001b[43m)\u001b[49m\n",
      "File \u001b[0;32m/usr/local/lib/python3.10/dist-packages/torch/nn/modules/module.py:1747\u001b[0m, in \u001b[0;36mModule._call_impl\u001b[0;34m(self, *args, **kwargs)\u001b[0m\n\u001b[1;32m   1742\u001b[0m \u001b[38;5;66;03m# If we don't have any hooks, we want to skip the rest of the logic in\u001b[39;00m\n\u001b[1;32m   1743\u001b[0m \u001b[38;5;66;03m# this function, and just call forward.\u001b[39;00m\n\u001b[1;32m   1744\u001b[0m \u001b[38;5;28;01mif\u001b[39;00m \u001b[38;5;129;01mnot\u001b[39;00m (\u001b[38;5;28mself\u001b[39m\u001b[38;5;241m.\u001b[39m_backward_hooks \u001b[38;5;129;01mor\u001b[39;00m \u001b[38;5;28mself\u001b[39m\u001b[38;5;241m.\u001b[39m_backward_pre_hooks \u001b[38;5;129;01mor\u001b[39;00m \u001b[38;5;28mself\u001b[39m\u001b[38;5;241m.\u001b[39m_forward_hooks \u001b[38;5;129;01mor\u001b[39;00m \u001b[38;5;28mself\u001b[39m\u001b[38;5;241m.\u001b[39m_forward_pre_hooks\n\u001b[1;32m   1745\u001b[0m         \u001b[38;5;129;01mor\u001b[39;00m _global_backward_pre_hooks \u001b[38;5;129;01mor\u001b[39;00m _global_backward_hooks\n\u001b[1;32m   1746\u001b[0m         \u001b[38;5;129;01mor\u001b[39;00m _global_forward_hooks \u001b[38;5;129;01mor\u001b[39;00m _global_forward_pre_hooks):\n\u001b[0;32m-> 1747\u001b[0m     \u001b[38;5;28;01mreturn\u001b[39;00m \u001b[43mforward_call\u001b[49m\u001b[43m(\u001b[49m\u001b[38;5;241;43m*\u001b[39;49m\u001b[43margs\u001b[49m\u001b[43m,\u001b[49m\u001b[43m \u001b[49m\u001b[38;5;241;43m*\u001b[39;49m\u001b[38;5;241;43m*\u001b[39;49m\u001b[43mkwargs\u001b[49m\u001b[43m)\u001b[49m\n\u001b[1;32m   1749\u001b[0m \u001b[38;5;28;01mtry\u001b[39;00m:\n\u001b[1;32m   1750\u001b[0m     result \u001b[38;5;241m=\u001b[39m \u001b[38;5;28;01mNone\u001b[39;00m\n",
      "File \u001b[0;32m/usr/local/lib/python3.10/dist-packages/torch/nn/modules/linear.py:125\u001b[0m, in \u001b[0;36mLinear.forward\u001b[0;34m(self, input)\u001b[0m\n\u001b[1;32m    124\u001b[0m \u001b[38;5;28;01mdef\u001b[39;00m \u001b[38;5;21mforward\u001b[39m(\u001b[38;5;28mself\u001b[39m, \u001b[38;5;28minput\u001b[39m: Tensor) \u001b[38;5;241m-\u001b[39m\u001b[38;5;241m>\u001b[39m Tensor:\n\u001b[0;32m--> 125\u001b[0m     \u001b[38;5;28;01mreturn\u001b[39;00m \u001b[43mF\u001b[49m\u001b[38;5;241;43m.\u001b[39;49m\u001b[43mlinear\u001b[49m\u001b[43m(\u001b[49m\u001b[38;5;28;43minput\u001b[39;49m\u001b[43m,\u001b[49m\u001b[43m \u001b[49m\u001b[38;5;28;43mself\u001b[39;49m\u001b[38;5;241;43m.\u001b[39;49m\u001b[43mweight\u001b[49m\u001b[43m,\u001b[49m\u001b[43m \u001b[49m\u001b[38;5;28;43mself\u001b[39;49m\u001b[38;5;241;43m.\u001b[39;49m\u001b[43mbias\u001b[49m\u001b[43m)\u001b[49m\n",
      "\u001b[0;31mRuntimeError\u001b[0m: mat1 and mat2 shapes cannot be multiplied (2176x16 and 8x8)"
     ]
    }
   ],
   "source": [
    "MHSA=MultiHeadattention(8,2)\n",
    "SA = MHSA(emb)\n",
    "print(SA.shape)"
   ]
  },
  {
   "cell_type": "markdown",
   "metadata": {
    "id": "lb_k3VruvTjm"
   },
   "source": [
    "5. Transformer Encoder"
   ]
  },
  {
   "cell_type": "code",
   "execution_count": 159,
   "metadata": {
    "id": "Rq3acp8rjBlT"
   },
   "outputs": [],
   "source": [
    " class TransformerEncoder(nn.Module):\n",
    "    def __init__(self,tokenLength,numHeads):\n",
    "        super().__init__()\n",
    "        self.D = tokenLength\n",
    "        self.H = numHeads\n",
    "        self.MHA_Layer=MultiHeadattention(self.D,self.H)\n",
    "        self.normLayer1 = nn.LayerNorm(self.D)\n",
    "        self.feedForward = nn.Linear(self.D,self.D)\n",
    "        self.normLayer2 = nn.LayerNorm(self.D)\n",
    "\n",
    "\n",
    "    def forward(self,x):\n",
    "        MHSA = self.MHA_Layer(x)\n",
    "        x = self.normLayer1(x+MHSA)\n",
    "        ffLayer = self.feedForward(x)\n",
    "        x = self.NormLayer2(x+ffLayer)\n",
    "\n",
    "        return x\n",
    " \n"
   ]
  },
  {
   "cell_type": "code",
   "execution_count": 160,
   "metadata": {},
   "outputs": [
    {
     "name": "stdout",
     "output_type": "stream",
     "text": [
      "xshape  torch.Size([128, 17, 16]) 16\n",
      "shapes  torch.Size([16, 17, 128]) torch.Size([128, 17, 16])\n",
      "SA[x]  torch.Size([128, 17, 16])\n",
      "xshape  torch.Size([128, 17, 16]) 16\n",
      "shapes  torch.Size([16, 17, 128]) torch.Size([128, 17, 16])\n",
      "SA[x]  torch.Size([128, 17, 16])\n",
      "xshape  torch.Size([128, 17, 16]) 16\n",
      "shapes  torch.Size([16, 17, 128]) torch.Size([128, 17, 16])\n",
      "SA[x]  torch.Size([128, 17, 16])\n",
      "xshape  torch.Size([128, 17, 16]) 16\n",
      "shapes  torch.Size([16, 17, 128]) torch.Size([128, 17, 16])\n",
      "SA[x]  torch.Size([128, 17, 16])\n",
      "xshape  torch.Size([128, 17, 16]) 16\n",
      "shapes  torch.Size([16, 17, 128]) torch.Size([128, 17, 16])\n",
      "SA[x]  torch.Size([128, 17, 16])\n",
      "xshape  torch.Size([128, 17, 16]) 16\n",
      "shapes  torch.Size([16, 17, 128]) torch.Size([128, 17, 16])\n",
      "SA[x]  torch.Size([128, 17, 16])\n",
      "xshape  torch.Size([128, 17, 16]) 16\n",
      "shapes  torch.Size([16, 17, 128]) torch.Size([128, 17, 16])\n",
      "SA[x]  torch.Size([128, 17, 16])\n",
      "xshape  torch.Size([128, 17, 16]) 16\n",
      "shapes  torch.Size([16, 17, 128]) torch.Size([128, 17, 16])\n",
      "SA[x]  torch.Size([128, 17, 16])\n"
     ]
    },
    {
     "ename": "RuntimeError",
     "evalue": "The size of tensor a (16) must match the size of tensor b (17) at non-singleton dimension 1",
     "output_type": "error",
     "traceback": [
      "\u001b[0;31m---------------------------------------------------------------------------\u001b[0m",
      "\u001b[0;31mRuntimeError\u001b[0m                              Traceback (most recent call last)",
      "Cell \u001b[0;32mIn[160], line 2\u001b[0m\n\u001b[1;32m      1\u001b[0m te \u001b[38;5;241m=\u001b[39m TransformerEncoder(\u001b[38;5;241m16\u001b[39m,\u001b[38;5;241m8\u001b[39m)\n\u001b[0;32m----> 2\u001b[0m x \u001b[38;5;241m=\u001b[39m \u001b[43mte\u001b[49m\u001b[43m(\u001b[49m\u001b[43memb\u001b[49m\u001b[43m)\u001b[49m\n",
      "File \u001b[0;32m/usr/local/lib/python3.10/dist-packages/torch/nn/modules/module.py:1736\u001b[0m, in \u001b[0;36mModule._wrapped_call_impl\u001b[0;34m(self, *args, **kwargs)\u001b[0m\n\u001b[1;32m   1734\u001b[0m     \u001b[38;5;28;01mreturn\u001b[39;00m \u001b[38;5;28mself\u001b[39m\u001b[38;5;241m.\u001b[39m_compiled_call_impl(\u001b[38;5;241m*\u001b[39margs, \u001b[38;5;241m*\u001b[39m\u001b[38;5;241m*\u001b[39mkwargs)  \u001b[38;5;66;03m# type: ignore[misc]\u001b[39;00m\n\u001b[1;32m   1735\u001b[0m \u001b[38;5;28;01melse\u001b[39;00m:\n\u001b[0;32m-> 1736\u001b[0m     \u001b[38;5;28;01mreturn\u001b[39;00m \u001b[38;5;28;43mself\u001b[39;49m\u001b[38;5;241;43m.\u001b[39;49m\u001b[43m_call_impl\u001b[49m\u001b[43m(\u001b[49m\u001b[38;5;241;43m*\u001b[39;49m\u001b[43margs\u001b[49m\u001b[43m,\u001b[49m\u001b[43m \u001b[49m\u001b[38;5;241;43m*\u001b[39;49m\u001b[38;5;241;43m*\u001b[39;49m\u001b[43mkwargs\u001b[49m\u001b[43m)\u001b[49m\n",
      "File \u001b[0;32m/usr/local/lib/python3.10/dist-packages/torch/nn/modules/module.py:1747\u001b[0m, in \u001b[0;36mModule._call_impl\u001b[0;34m(self, *args, **kwargs)\u001b[0m\n\u001b[1;32m   1742\u001b[0m \u001b[38;5;66;03m# If we don't have any hooks, we want to skip the rest of the logic in\u001b[39;00m\n\u001b[1;32m   1743\u001b[0m \u001b[38;5;66;03m# this function, and just call forward.\u001b[39;00m\n\u001b[1;32m   1744\u001b[0m \u001b[38;5;28;01mif\u001b[39;00m \u001b[38;5;129;01mnot\u001b[39;00m (\u001b[38;5;28mself\u001b[39m\u001b[38;5;241m.\u001b[39m_backward_hooks \u001b[38;5;129;01mor\u001b[39;00m \u001b[38;5;28mself\u001b[39m\u001b[38;5;241m.\u001b[39m_backward_pre_hooks \u001b[38;5;129;01mor\u001b[39;00m \u001b[38;5;28mself\u001b[39m\u001b[38;5;241m.\u001b[39m_forward_hooks \u001b[38;5;129;01mor\u001b[39;00m \u001b[38;5;28mself\u001b[39m\u001b[38;5;241m.\u001b[39m_forward_pre_hooks\n\u001b[1;32m   1745\u001b[0m         \u001b[38;5;129;01mor\u001b[39;00m _global_backward_pre_hooks \u001b[38;5;129;01mor\u001b[39;00m _global_backward_hooks\n\u001b[1;32m   1746\u001b[0m         \u001b[38;5;129;01mor\u001b[39;00m _global_forward_hooks \u001b[38;5;129;01mor\u001b[39;00m _global_forward_pre_hooks):\n\u001b[0;32m-> 1747\u001b[0m     \u001b[38;5;28;01mreturn\u001b[39;00m \u001b[43mforward_call\u001b[49m\u001b[43m(\u001b[49m\u001b[38;5;241;43m*\u001b[39;49m\u001b[43margs\u001b[49m\u001b[43m,\u001b[49m\u001b[43m \u001b[49m\u001b[38;5;241;43m*\u001b[39;49m\u001b[38;5;241;43m*\u001b[39;49m\u001b[43mkwargs\u001b[49m\u001b[43m)\u001b[49m\n\u001b[1;32m   1749\u001b[0m \u001b[38;5;28;01mtry\u001b[39;00m:\n\u001b[1;32m   1750\u001b[0m     result \u001b[38;5;241m=\u001b[39m \u001b[38;5;28;01mNone\u001b[39;00m\n",
      "Cell \u001b[0;32mIn[159], line 14\u001b[0m, in \u001b[0;36mTransformerEncoder.forward\u001b[0;34m(self, x)\u001b[0m\n\u001b[1;32m     12\u001b[0m \u001b[38;5;28;01mdef\u001b[39;00m \u001b[38;5;21mforward\u001b[39m(\u001b[38;5;28mself\u001b[39m,x):\n\u001b[1;32m     13\u001b[0m     MHSA \u001b[38;5;241m=\u001b[39m \u001b[38;5;28mself\u001b[39m\u001b[38;5;241m.\u001b[39mMHA_Layer(x)\n\u001b[0;32m---> 14\u001b[0m     x \u001b[38;5;241m=\u001b[39m \u001b[38;5;28mself\u001b[39m\u001b[38;5;241m.\u001b[39mnormLayer1(\u001b[43mx\u001b[49m\u001b[38;5;241;43m+\u001b[39;49m\u001b[43mMHSA\u001b[49m)\n\u001b[1;32m     15\u001b[0m     ffLayer \u001b[38;5;241m=\u001b[39m \u001b[38;5;28mself\u001b[39m\u001b[38;5;241m.\u001b[39mfeedForward(x)\n\u001b[1;32m     16\u001b[0m     x \u001b[38;5;241m=\u001b[39m \u001b[38;5;28mself\u001b[39m\u001b[38;5;241m.\u001b[39mNormLayer2(x\u001b[38;5;241m+\u001b[39mffLayer)\n",
      "\u001b[0;31mRuntimeError\u001b[0m: The size of tensor a (16) must match the size of tensor b (17) at non-singleton dimension 1"
     ]
    }
   ],
   "source": [
    "te = TransformerEncoder(16,8)\n",
    "x = te(emb)"
   ]
  },
  {
   "cell_type": "markdown",
   "metadata": {
    "id": "iKrd-yUGvRfA"
   },
   "source": [
    "6. Vision Transformer\n",
    "\n"
   ]
  },
  {
   "cell_type": "code",
   "execution_count": null,
   "metadata": {
    "id": "ZKzMO9-nVjaR"
   },
   "outputs": [],
   "source": [
    "class Vision_transformer(nn.Module):\n",
    "    def __init__(self,numChannels,numDims,numHeads,NumPatches,OutputClasses):\n",
    "        super().__init__()\n",
    "        self.C = numChannels   # number of channels\n",
    "        self.D = numDims   # number of dimensions (D) in token\n",
    "        self.H = numHeads  # number of heads in multihead attention\n",
    "        self.n_patches = n_patches   # number of patches in input\n",
    "        self.CLS = OutputClasses # \n",
    "        self.N = self.n_patches+1     # number of tokens (N) in sequence including CLS token\n",
    "\n",
    "        self.TransformerEncoder = TransformerEncoder(self.D,self.H)\n",
    "        self.linear=nn.Linear(self.D,self.D)\n",
    "        self.softmax = nn.softmax(self.CLS)\n",
    "\n",
    "    \n",
    "    def forward(self,x):\n",
    "        \n",
    "\n",
    "\n"
   ]
  },
  {
   "cell_type": "markdown",
   "metadata": {
    "id": "LPRk2KKrySk0"
   },
   "source": [
    "# Call Model\n",
    "In this code cell setup the configuration for your model. The dimensionality of the tokens, number of heads, number of tokens etc.\n",
    "\n",
    "Note in order for your vision transformer model to be compatible with the training loops below: Check that it accepts an image batch as input and returns an output of [B,Nc] where B is the batch size and Nc are the number of classes (10) in CIFAR-10"
   ]
  },
  {
   "cell_type": "code",
   "execution_count": null,
   "metadata": {
    "colab": {
     "base_uri": "https://localhost:8080/"
    },
    "executionInfo": {
     "elapsed": 101,
     "status": "ok",
     "timestamp": 1740141525167,
     "user": {
      "displayName": "Tony Scanlan",
      "userId": "11380187689366571663"
     },
     "user_tz": 0
    },
    "id": "mCAEkBIOYWzS",
    "outputId": "e1904e9e-c9ed-414e-951b-5c7104c4daad"
   },
   "outputs": [
    {
     "name": "stdout",
     "output_type": "stream",
     "text": [
      "torch.Size([128, 10])\n"
     ]
    }
   ],
   "source": [
    "     # Number of input Channels\n",
    "     # Transformer Dimension\n",
    "     # Numbers of heads\n",
    "     # Number of patches (input tokens)\n",
    "     # Ouptut Classes\n",
    "     # Etc\n",
    "\n",
    "NumChannels=3\n",
    "NumDims=8\n",
    "NumPatches=16\n",
    "\n",
    "\n",
    "model = Vision_transformer(#args......)\n",
    "\n",
    "# Check model can correctly process an image batch\n",
    "op=model(image_batch)\n",
    "print(op.shape)\n"
   ]
  },
  {
   "cell_type": "code",
   "execution_count": null,
   "metadata": {
    "colab": {
     "base_uri": "https://localhost:8080/"
    },
    "executionInfo": {
     "elapsed": 8,
     "status": "ok",
     "timestamp": 1740141530890,
     "user": {
      "displayName": "Tony Scanlan",
      "userId": "11380187689366571663"
     },
     "user_tz": 0
    },
    "id": "H0NBFWX_e7Jy",
    "outputId": "cfbb21f6-e8ed-4474-9ad0-848fad1cff43"
   },
   "outputs": [
    {
     "name": "stdout",
     "output_type": "stream",
     "text": [
      "Using cuda device\n"
     ]
    }
   ],
   "source": [
    "\n",
    "device = (\n",
    "    \"cuda\"\n",
    "    if torch.cuda.is_available()\n",
    "    else \"mps\"\n",
    "    if torch.backends.mps.is_available()\n",
    "    else \"cpu\"\n",
    ")\n",
    "print(f\"Using {device} device\")"
   ]
  },
  {
   "cell_type": "code",
   "execution_count": null,
   "metadata": {
    "id": "aKnRVQAQHA-H"
   },
   "outputs": [],
   "source": [
    "from torchinfo import summary\n",
    "# Ensure input size is correct\n",
    "model=model.to(device)\n",
    "summary(model, input_size=(batch_size, 3, 32, 32))"
   ]
  },
  {
   "cell_type": "markdown",
   "metadata": {
    "id": "Q3_9Lw9zOtNJ"
   },
   "source": [
    "# Optimisation & Training Loop\n",
    "\n",
    "For this classification problem we will use the  [CrossEntropy loss](https://pytorch.org/docs/stable/generated/torch.nn.CrossEntropyLoss.html). In this pytorch function, the input is the un-normalised logit value.\n",
    "\n",
    "* The SGD (Stocasitc Gradient Descent) Optimiser with cyclic learning rate schedule is provided as a the default training configuration. You may change this in order to improve model training.\n",
    "\n",
    "* Note that you can interrupt the training if it has converged (or failed) and then view the tensorboard curves and also obtain accuracy of the test set (by running the appropriate cells).\n",
    "\n",
    "* Make sure to run the model call and optimiser call before starting training again to ensure the previous training state is cleared.\n",
    "\n",
    "[Tensorboard is imported](https://pytorch.org/tutorials/beginner/introyt/tensorboardyt_tutorial.html) to display results.\n"
   ]
  },
  {
   "cell_type": "code",
   "execution_count": null,
   "metadata": {
    "id": "QPTIUQx5xqVJ"
   },
   "outputs": [],
   "source": [
    "loss_fn = nn.CrossEntropyLoss()\n",
    "opt_lr = 0.004\n",
    "momentum = 0.95\n",
    "weight_decay = 0.0005\n",
    "optimizer = torch.optim.SGD(model.parameters(), lr=opt_lr, momentum=momentum, weight_decay=weight_decay) # lr=0.01\n",
    "\n",
    "#0.0005, 0.005\n",
    "lr_scheduler=torch.optim.lr_scheduler.CyclicLR(optimizer, 0.0001, 0.02,\n",
    "                                  step_size_up=2000, step_size_down=2000,\n",
    "                                  mode='triangular', gamma=1.0, scale_fn=None,\n",
    "                                  scale_mode='exp_range', cycle_momentum=True,\n",
    "                                  base_momentum=0.8, max_momentum=0.9, last_epoch=-1,\n",
    "                                  verbose='deprecated')"
   ]
  },
  {
   "cell_type": "markdown",
   "metadata": {
    "id": "r21Zjf3wx4Nt"
   },
   "source": [
    "Initialise Tensorboard (use of tensorboard in colab notebooks is [detailed here](https://colab.research.google.com/github/tensorflow/tensorboard/blob/master/docs/tensorboard_in_notebooks.ipynb))\n"
   ]
  },
  {
   "cell_type": "code",
   "execution_count": null,
   "metadata": {
    "id": "fd9d6fJIx7w1"
   },
   "outputs": [],
   "source": [
    "\n",
    "\n",
    "# Amend Run names based on hyperparamters and add date & time\n",
    "run_name = 'My Run'\n",
    "timestamp = datetime.datetime.now().strftime(\"%Y-%m-%d_%H-%M-%S\")\n",
    "log_dir = f\"runs/{run_name}_{timestamp}\"\n",
    "writer = SummaryWriter(log_dir=log_dir)\n"
   ]
  },
  {
   "cell_type": "markdown",
   "metadata": {
    "id": "PRzXfw3K4P_L"
   },
   "source": [
    "Training & Validataion Loop (Combine into a single loop [link text](https://pytorch.org/tutorials/beginner/introyt/tensorboardyt_tutorial.html). In order to setup GUI with plots, [need to structure the naming convention](https://pytorch.org/docs/stable/tensorboard.html))"
   ]
  },
  {
   "cell_type": "code",
   "execution_count": null,
   "metadata": {
    "id": "SwABO9ylyP0E"
   },
   "outputs": [],
   "source": [
    "\n",
    "# Train step that operates on each batch\n",
    "def train_step(inputs, labels):\n",
    "        model.train(True)\n",
    "        # Forward Pass through Model\n",
    "        outputs = model(inputs)\n",
    "        # Calculate Loss\n",
    "        loss = loss_fn(outputs, labels)\n",
    "        # perform backward step\n",
    "        loss.backward()\n",
    "        # Update optimiser and zero gradients\n",
    "        optimizer.step()\n",
    "        optimizer.zero_grad()\n",
    "\n",
    "        return loss, outputs\n",
    "\n",
    "# Test step that operates on each batch\n",
    "def val_step(inputs, labels):\n",
    "        model.train(False)\n",
    "        # Forward Pass through Model\n",
    "        outputs = model(inputs)\n",
    "        # Calculate Loss\n",
    "        loss = loss_fn(outputs, labels)\n",
    "\n",
    "        return loss, outputs\n",
    "\n",
    "# Create a class to handle metrics with methods to accumulate the loss/accuracy\n",
    "# and print average over interval of iterations\n",
    "class tt_metrics:\n",
    "\n",
    "  def __init__(self,dataloader,type,n_iter=100000):\n",
    "\n",
    "        self.dataloader = dataloader\n",
    "        self.num_batches = len(dataloader)         # batches in epoch\n",
    "        self.num_samples = len(dataloader.dataset) # samples in epoch\n",
    "        self.avg_loss = 0\n",
    "        self.avg_acc = 0\n",
    "        self.type = type\n",
    "        # Determine number of iterations / samples for metric calculation\n",
    "        # number of iterations can be less than (max) iterations in an epoch\n",
    "        # max is number of iterations in epoch.\n",
    "        self.n_iter = min(n_iter,self.num_batches)\n",
    "\n",
    "        # Intialise accumulators for determining loss and accuracy\n",
    "        self.running_loss = 0.0\n",
    "        self.running_acc = 0.0\n",
    "\n",
    "  def update_acc(self, loss, outputs, labels):\n",
    "        # Accumulate loss\n",
    "        self.running_loss += loss.item()\n",
    "        # Accumulate Accuracy\n",
    "        self.running_acc += (outputs.argmax(1) == labels).type(torch.float).sum().item()\n",
    "\n",
    "  def calc_metrics(self,batch_size):\n",
    "            # Where n_iter is interval calculating average over\n",
    "            # and type is a string denoting, train val or test\n",
    "            self.avg_loss = self.running_loss / self.n_iter   # divide by number of batches are computing over\n",
    "            self.avg_acc = 100*self.running_acc / (self.n_iter*batch_size) # divide by number of examples computing accuracy over\n",
    "\n",
    "            # Reset accumulation\n",
    "            self.running_loss = 0.0\n",
    "            self.running_acc = 0.0\n",
    "\n",
    "\n",
    "def tb_write(train_metrics,val_metrics,epoch,i):\n",
    "\n",
    "      # Calculate metrics for Train & Test\n",
    "      train_metrics.calc_metrics(batch_size)\n",
    "      val_metrics.calc_metrics(batch_size)\n",
    "\n",
    "      # Print intermediate results\n",
    "      print('Epoch {}'.format(epoch),' Batch {}'.format(i + 1))\n",
    "      print(f\"{train_metrics.type} Error: \\n Accuracy: {(train_metrics.avg_acc):>0.1f}%, Avg loss: {train_metrics.avg_loss:>8f} \\n\")\n",
    "      print(f\"{val_metrics.type} Error: \\n Accuracy: {(val_metrics.avg_acc):>0.1f}%, Avg loss: {val_metrics.avg_loss:>8f} \\n\")\n",
    "\n",
    "      # Log the running loss averaged per batch\n",
    "      writer.add_scalars('Loss',\n",
    "                            { f\"{train_metrics.type}/Loss\" : train_metrics.avg_loss, f\"{val_metrics.type}/Loss\" : val_metrics.avg_loss },\n",
    "                            epoch * len(train_dataloader) + i)\n",
    "      writer.add_scalars('Accuracy',\n",
    "                            {f\"{train_metrics.type}/Accuracy\" : train_metrics.avg_acc, f\"{val_metrics.type}/Accuracy\" : val_metrics.avg_acc },\n",
    "                            epoch * len(train_dataloader) + i)\n",
    "\n",
    "\n",
    "# Main training & evaluation loop\n",
    "def train_eval_loop(model,n_epochs,n_iter):\n",
    "    # Where n_epochs is the number of epochs and n_iter can be set to\n",
    "    # a value less than number iterations in an epoch if required\n",
    "    model = model.to(device)\n",
    "    for epoch in range(n_epochs):  # loop over the dataset multiple times\n",
    "      # Intialise metrics\n",
    "      train_metrics = tt_metrics(train_dataloader,type='Train',n_iter=100)\n",
    "      val_metrics = tt_metrics(test_dataloader,type='Test')\n",
    "\n",
    "      # Enumerate over the training data\n",
    "      for i, data in enumerate(train_dataloader, 0):\n",
    "        # Extract images and labels and transfer to device\n",
    "        inputs, labels = data\n",
    "        inputs, labels = inputs.to(device), labels.to(device)\n",
    "\n",
    "        # Run train step (returns loss outputs for metrics)\n",
    "        loss, outputs = train_step(inputs, labels)\n",
    "\n",
    "        # update metrics\n",
    "        train_metrics.update_acc(loss, outputs, labels)\n",
    "\n",
    "        # Apply learning rate scheduler\n",
    "        lr_scheduler.step()\n",
    "        # Call evaluation step after n_iter\n",
    "        if i % n_iter == n_iter-1:    # Every n mini-batches...\n",
    "\n",
    "\n",
    "            for j, vdata in enumerate(test_dataloader, 0):\n",
    "               # Extract images and labels and transfer to device\n",
    "               vinputs, vlabels = vdata\n",
    "               vinputs, vlabels = vinputs.to(device), vlabels.to(device)\n",
    "\n",
    "               # Run train step (returns loss outputs for metrics)\n",
    "               vloss, voutputs = val_step(vinputs, vlabels)\n",
    "\n",
    "               # update metrics\n",
    "               val_metrics.update_acc(vloss, voutputs, vlabels)\n",
    "\n",
    "            # Calculate and Print metrics (metrics reset after calculation)\n",
    "            tb_write(train_metrics,val_metrics,epoch,i)\n",
    "            print('LR value = ',lr_scheduler.get_last_lr())\n",
    "\n",
    "      # Apply Schedule at end of each epoch.\n",
    "      #lr_scheduler.step(val_metrics.avg_loss)\n",
    "\n",
    "\n",
    "\n",
    "writer.flush()"
   ]
  },
  {
   "cell_type": "code",
   "execution_count": null,
   "metadata": {
    "id": "fqfjZz0vKRI-"
   },
   "outputs": [],
   "source": [
    "n_epochs=50\n",
    "n_iter=100\n",
    "train_eval_loop(model,n_epochs,n_iter)"
   ]
  },
  {
   "cell_type": "markdown",
   "metadata": {
    "id": "OhbzbvKrdKvh"
   },
   "source": [
    "Note when r[unning colab container on docker, tensorboard](https://leimao.github.io/blog/TensorBoard-On-Docker/) will open on webpage: http://127.0.0.1:6006/"
   ]
  },
  {
   "cell_type": "code",
   "execution_count": null,
   "metadata": {
    "id": "CWWFZg3mPLU5"
   },
   "outputs": [],
   "source": [
    "#%load_ext tensorboard\n",
    "%reload_ext tensorboard\n",
    "%tensorboard --logdir runs --bind_all"
   ]
  },
  {
   "cell_type": "markdown",
   "metadata": {
    "id": "c14uQnBWqjfp"
   },
   "source": [
    "# Evaluate Model\n",
    "We will obtain the classification report after final evaluation of the test dataset with the model. A confusion matrix can also be obtained and we will plot a few example images."
   ]
  },
  {
   "cell_type": "code",
   "execution_count": null,
   "metadata": {
    "id": "m1p_BCQGqk0B"
   },
   "outputs": [],
   "source": [
    "import numpy as np\n",
    "import matplotlib.pyplot as plt\n",
    "\n",
    "\n",
    "\n",
    "store_predictions = []\n",
    "store_labels = []\n",
    "model.eval()\n",
    "\n",
    "# Evaluation loop to produce predictions for use with scikit learn confusion matrix\n",
    "def eval_loop(test_dataloader):\n",
    "\n",
    "   num_test_batches = len(test_dataloader)\n",
    "   for i, data in enumerate(test_dataloader, 0):\n",
    "      # basic test loop\n",
    "      input_batch, label_batch = data\n",
    "      input_batch = input_batch.to(device)\n",
    "\n",
    "      pred_logit = model(input_batch)\n",
    "      predictions = torch.argmax(pred_logit,1) # reduce along output dimension\n",
    "      predictions_np = predictions.to(\"cpu\").numpy()\n",
    "      label_batch_np = label_batch.numpy()\n",
    "      if i<num_test_batches-1:\n",
    "        store_predictions.append(predictions_np)\n",
    "        store_labels.append(label_batch)\n",
    "\n",
    "   y_pred = np.squeeze(np.reshape(store_predictions,(1,(num_test_batches-1)*batch_size)))\n",
    "   y_true = np.squeeze(np.reshape(store_labels,(1,(num_test_batches-1)*batch_size)))\n",
    "   return y_pred, y_true\n",
    "\n",
    "y_pred, y_true = eval_loop(test_dataloader)"
   ]
  },
  {
   "cell_type": "code",
   "execution_count": null,
   "metadata": {
    "id": "8fNbE_u3qp-D"
   },
   "outputs": [],
   "source": [
    "#https://scikit-learn.org/0.16/auto_examples/model_selection/plot_confusion_matrix.html\n",
    "from sklearn.metrics import confusion_matrix\n",
    "cm = confusion_matrix(y_true, y_pred)\n",
    "def plot_confusion_matrix(cm, title='Confusion matrix', cmap=plt.cm.Blues):\n",
    "    plt.imshow(cm, interpolation='nearest', cmap=cmap)\n",
    "    plt.title(title)\n",
    "    plt.colorbar()\n",
    "    tick_marks = np.arange(len(classes))\n",
    "    plt.xticks(tick_marks, classes, rotation=45)\n",
    "    plt.yticks(tick_marks, classes)\n",
    "    plt.tight_layout()\n",
    "    plt.ylabel('True label')\n",
    "    plt.xlabel('Predicted label')\n",
    "\n",
    "plot_confusion_matrix(cm)"
   ]
  },
  {
   "cell_type": "code",
   "execution_count": null,
   "metadata": {
    "id": "hpx7edXcqtUB"
   },
   "outputs": [],
   "source": [
    "from sklearn.metrics import classification_report\n",
    "print(classification_report(y_true, y_pred, target_names=classes))"
   ]
  },
  {
   "cell_type": "code",
   "execution_count": null,
   "metadata": {
    "id": "hp6WRpYQqtyi"
   },
   "outputs": [],
   "source": [
    "# Output next batch from dataloader\n",
    "dataiter = iter(test_dataloader)\n",
    "image_batch, labels_batch = next(dataiter)\n",
    "\n",
    "# Pass batch through model\n",
    "model.eval()\n",
    "image_batch = image_batch.to(device)\n",
    "pred_logit = model(image_batch)\n",
    "\n",
    "\n",
    "# Use matplotlib to plot a sample of images\n",
    "import matplotlib.pyplot as plt\n",
    "i=0\n",
    "n_plots = 12 # number of plots\n",
    "f, axarr = plt.subplots(1,n_plots,figsize=(20,10))\n",
    "\n",
    "\n",
    "for image in image_batch[0:n_plots,:,:,:]:\n",
    "  disp_image =  torch.permute(image.to('cpu'),(2,1,0)).numpy() # return image to cpu for display and permute to channels last\n",
    "  mean = np.array([0.485, 0.456, 0.406])\n",
    "  std = np.array([0.229, 0.224, 0.225])\n",
    "  disp_image = std * disp_image + mean\n",
    "  disp_image = np.clip(disp_image, 0, 1)\n",
    "  axarr[i].imshow(disp_image[:,:,:])\n",
    "  axarr[i].axis(\"off\")\n",
    "  predicted, actual = classes[pred_logit[i,:].argmax(0)], classes[labels_batch[i]]\n",
    "  color = 'black' if predicted == actual else 'red'\n",
    "  axarr[i].set_title(predicted,fontsize='small', color=color)\n",
    "  i = i+1"
   ]
  }
 ],
 "metadata": {
  "colab": {
   "authorship_tag": "ABX9TyNbwV8CwMUZT6F1ONPM/DpC",
   "provenance": [
    {
     "file_id": "1SsHG7cuQmMMKqhysgmufIyqPrLFVy3J5",
     "timestamp": 1740500380135
    },
    {
     "file_id": "1IkkVh1O7xxtoFO18nTDpCW3l99VPOAwF",
     "timestamp": 1740499620288
    }
   ]
  },
  "kernelspec": {
   "display_name": "Python 3 (ipykernel)",
   "language": "python",
   "name": "python3"
  },
  "language_info": {
   "codemirror_mode": {
    "name": "ipython",
    "version": 3
   },
   "file_extension": ".py",
   "mimetype": "text/x-python",
   "name": "python",
   "nbconvert_exporter": "python",
   "pygments_lexer": "ipython3",
   "version": "3.10.12"
  }
 },
 "nbformat": 4,
 "nbformat_minor": 4
}
